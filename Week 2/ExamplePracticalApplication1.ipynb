{
 "cells": [
  {
   "cell_type": "markdown",
   "metadata": {},
   "source": [
    "# Step 1: Install Necessary Libraries\n",
    "First, ensure you have Python 3 and NumPy installed. You can install NumPy using pip:"
   ]
  },
  {
   "cell_type": "code",
   "execution_count": 1,
   "metadata": {},
   "outputs": [
    {
     "name": "stdout",
     "output_type": "stream",
     "text": [
      "Requirement already satisfied: numpy in /opt/homebrew/Caskroom/miniforge/base/lib/python3.10/site-packages (1.23.4)\n",
      "\n",
      "\u001b[1m[\u001b[0m\u001b[34;49mnotice\u001b[0m\u001b[1;39;49m]\u001b[0m\u001b[39;49m A new release of pip is available: \u001b[0m\u001b[31;49m23.3\u001b[0m\u001b[39;49m -> \u001b[0m\u001b[32;49m23.3.1\u001b[0m\n",
      "\u001b[1m[\u001b[0m\u001b[34;49mnotice\u001b[0m\u001b[1;39;49m]\u001b[0m\u001b[39;49m To update, run: \u001b[0m\u001b[32;49mpip install --upgrade pip\u001b[0m\n",
      "Note: you may need to restart the kernel to use updated packages.\n"
     ]
    }
   ],
   "source": [
    "pip install numpy"
   ]
  },
  {
   "cell_type": "code",
   "execution_count": 2,
   "metadata": {},
   "outputs": [
    {
     "name": "stdout",
     "output_type": "stream",
     "text": [
      "Requirement already satisfied: pip in /opt/homebrew/Caskroom/miniforge/base/lib/python3.10/site-packages (23.3)\n",
      "Collecting pip\n",
      "  Downloading pip-23.3.1-py3-none-any.whl.metadata (3.5 kB)\n",
      "Downloading pip-23.3.1-py3-none-any.whl (2.1 MB)\n",
      "\u001b[2K   \u001b[90m━━━━━━━━━━━━━━━━━━━━━━━━━━━━━━━━━━━━━━━━\u001b[0m \u001b[32m2.1/2.1 MB\u001b[0m \u001b[31m30.6 MB/s\u001b[0m eta \u001b[36m0:00:00\u001b[0ma \u001b[36m0:00:01\u001b[0m\n",
      "\u001b[?25hInstalling collected packages: pip\n",
      "  Attempting uninstall: pip\n",
      "    Found existing installation: pip 23.3\n",
      "    Uninstalling pip-23.3:\n",
      "      Successfully uninstalled pip-23.3\n",
      "Successfully installed pip-23.3.1\n",
      "Note: you may need to restart the kernel to use updated packages.\n"
     ]
    }
   ],
   "source": [
    "pip install --upgrade pip"
   ]
  },
  {
   "cell_type": "markdown",
   "metadata": {},
   "source": [
    "# Step 2: Import Libraries\n",
    "\n",
    "Import NumPy in your Python script:"
   ]
  },
  {
   "cell_type": "code",
   "execution_count": 4,
   "metadata": {},
   "outputs": [],
   "source": [
    "import numpy as np"
   ]
  },
  {
   "cell_type": "markdown",
   "metadata": {},
   "source": [
    "# Step 3: Define a Structured Array\n",
    "Structured NumPy arrays allow you to define columns with different data types. This is useful for handling business data, such as sales, dates, and product categories."
   ]
  },
  {
   "cell_type": "code",
   "execution_count": 5,
   "metadata": {},
   "outputs": [],
   "source": [
    "# Define the data type for each column\n",
    "data_type = [('Product', 'U10'), ('Quantity', 'i4'), ('Price', 'f4')]\n",
    "\n",
    "# Create a structured array\n",
    "data = np.array([\n",
    "    ('Widget', 20, 6.99),\n",
    "    ('Gadget', 15, 4.99),\n",
    "    ('Doodad', 30, 3.50)\n",
    "], dtype=data_type)\n"
   ]
  },
  {
   "cell_type": "markdown",
   "metadata": {},
   "source": [
    "In computer programming, when we say 'U10,' it means we have a designated space to store text with a maximum length of 10 characters, like a 10-character name. 'i4' represents whole numbers stored in a specific way using 32 bits of memory, allowing us to work with numbers like 1, 2, or 100. 'f8' stands for decimal numbers with higher precision, using 64 bits of memory, suitable for numbers with fractions or decimal points, such as 3.14. These labels simply help programmers specify how they want to store and work with different kinds of data in a computer's memory, similar to choosing the right-sized containers for different ingredients in a recipe.\n",
    "\n",
    "NB: To those of you who are interested in understand more details about data type in Computer Science and knowing the codes you can further find this [link](https://jakevdp.github.io/PythonDataScienceHandbook/02.09-structured-data-numpy.html#:~:text=Here%20'U10'%20translates%20to%20%22,codes%20in%20the%20following%20section.) and your textbook (\"Structured NumPy Arrays\") talk about this in details \n"
   ]
  },
  {
   "cell_type": "code",
   "execution_count": 6,
   "metadata": {},
   "outputs": [
    {
     "data": {
      "text/plain": [
       "array([('Widget', 20, 6.99), ('Gadget', 15, 4.99), ('Doodad', 30, 3.5 )],\n",
       "      dtype=[('Product', '<U10'), ('Quantity', '<i4'), ('Price', '<f4')])"
      ]
     },
     "execution_count": 6,
     "metadata": {},
     "output_type": "execute_result"
    }
   ],
   "source": [
    "data"
   ]
  },
  {
   "cell_type": "code",
   "execution_count": 7,
   "metadata": {},
   "outputs": [
    {
     "data": {
      "text/plain": [
       "('Widget', 20, 6.99)"
      ]
     },
     "execution_count": 7,
     "metadata": {},
     "output_type": "execute_result"
    }
   ],
   "source": [
    "data[0]"
   ]
  },
  {
   "cell_type": "code",
   "execution_count": 8,
   "metadata": {},
   "outputs": [
    {
     "data": {
      "text/plain": [
       "6.99"
      ]
     },
     "execution_count": 8,
     "metadata": {},
     "output_type": "execute_result"
    }
   ],
   "source": [
    "data[0][2]"
   ]
  },
  {
   "cell_type": "code",
   "execution_count": 14,
   "metadata": {},
   "outputs": [],
   "source": [
    "# Create a structured array\n",
    "data1 = np.array([\n",
    "    ('Widget', 20, 6.99),\n",
    "    ('Gadget', 15, 4.99),\n",
    "    ('Super Long Product Name', 30.3, 3.50)\n",
    "], dtype=data_type)\n"
   ]
  },
  {
   "cell_type": "code",
   "execution_count": 15,
   "metadata": {},
   "outputs": [
    {
     "data": {
      "text/plain": [
       "('Super Long', 30, 3.5)"
      ]
     },
     "execution_count": 15,
     "metadata": {},
     "output_type": "execute_result"
    }
   ],
   "source": [
    "data1[2]"
   ]
  },
  {
   "cell_type": "markdown",
   "metadata": {},
   "source": [
    "In NumPy, when the provided string is longer than the specified length in the dtype ('U10' in this case), it usually truncates the string to fit the specified length. This means 'Super Long Product Name' would be truncated to fit 10 characters, resulting in potential loss of information or unintended data values.\n",
    "\n",
    "So, the code will likely execute without raising an explicit error, but the data in the Product column for the row with 'Super Long Product Name' will be truncated, leading to incorrect or incomplete data in your array."
   ]
  },
  {
   "cell_type": "code",
   "execution_count": 17,
   "metadata": {},
   "outputs": [
    {
     "data": {
      "text/plain": [
       "array([('Widget', 20, 6.99), ('Gadget', 15, 4.99), ('Doodad', 30, 3.5 )],\n",
       "      dtype=[('Product', '<U10'), ('Quantity', '<i4'), ('Price', '<f4')])"
      ]
     },
     "execution_count": 17,
     "metadata": {},
     "output_type": "execute_result"
    }
   ],
   "source": [
    "data"
   ]
  },
  {
   "cell_type": "code",
   "execution_count": 18,
   "metadata": {},
   "outputs": [
    {
     "data": {
      "text/plain": [
       "array([[139.79999542],\n",
       "       [ 74.84999657],\n",
       "       [105.        ]])"
      ]
     },
     "execution_count": 18,
     "metadata": {},
     "output_type": "execute_result"
    }
   ],
   "source": [
    "# Calculate total sales for each product\n",
    "total_sales = data['Quantity'] * data['Price']\n",
    "\n",
    "total_sales[:, None]\n"
   ]
  },
  {
   "cell_type": "code",
   "execution_count": 22,
   "metadata": {},
   "outputs": [
    {
     "ename": "AxisError",
     "evalue": "axis 1 is out of bounds for array of dimension 1",
     "output_type": "error",
     "traceback": [
      "\u001b[0;31m---------------------------------------------------------------------------\u001b[0m",
      "\u001b[0;31mAxisError\u001b[0m                                 Traceback (most recent call last)",
      "\u001b[1;32m/Users/ramichehab/Library/CloudStorage/OneDrive-UniversityofExeter/Modules Lead/Programming for Business Analytics (bef2011da)/ELE Page/ELE Programs/Week 2/ExamplePracticalApplication1.ipynb Cell 17\u001b[0m line \u001b[0;36m2\n\u001b[1;32m      <a href='vscode-notebook-cell:/Users/ramichehab/Library/CloudStorage/OneDrive-UniversityofExeter/Modules%20Lead/Programming%20for%20Business%20Analytics%20%28bef2011da%29/ELE%20Page/ELE%20Programs/Week%202/ExamplePracticalApplication1.ipynb#X35sZmlsZQ%3D%3D?line=0'>1</a>\u001b[0m \u001b[39m# Add total sales as a new column\u001b[39;00m\n\u001b[0;32m----> <a href='vscode-notebook-cell:/Users/ramichehab/Library/CloudStorage/OneDrive-UniversityofExeter/Modules%20Lead/Programming%20for%20Business%20Analytics%20%28bef2011da%29/ELE%20Page/ELE%20Programs/Week%202/ExamplePracticalApplication1.ipynb#X35sZmlsZQ%3D%3D?line=1'>2</a>\u001b[0m data \u001b[39m=\u001b[39m np\u001b[39m.\u001b[39;49mappend(data, total_sales[:, \u001b[39mNone\u001b[39;49;00m], axis\u001b[39m=\u001b[39;49m\u001b[39m1\u001b[39;49m)\n\u001b[1;32m      <a href='vscode-notebook-cell:/Users/ramichehab/Library/CloudStorage/OneDrive-UniversityofExeter/Modules%20Lead/Programming%20for%20Business%20Analytics%20%28bef2011da%29/ELE%20Page/ELE%20Programs/Week%202/ExamplePracticalApplication1.ipynb#X35sZmlsZQ%3D%3D?line=2'>3</a>\u001b[0m data\n",
      "File \u001b[0;32m<__array_function__ internals>:180\u001b[0m, in \u001b[0;36mappend\u001b[0;34m(*args, **kwargs)\u001b[0m\n",
      "File \u001b[0;32m/opt/homebrew/Caskroom/miniforge/base/lib/python3.10/site-packages/numpy/lib/function_base.py:5444\u001b[0m, in \u001b[0;36mappend\u001b[0;34m(arr, values, axis)\u001b[0m\n\u001b[1;32m   5442\u001b[0m     values \u001b[39m=\u001b[39m ravel(values)\n\u001b[1;32m   5443\u001b[0m     axis \u001b[39m=\u001b[39m arr\u001b[39m.\u001b[39mndim\u001b[39m-\u001b[39m\u001b[39m1\u001b[39m\n\u001b[0;32m-> 5444\u001b[0m \u001b[39mreturn\u001b[39;00m concatenate((arr, values), axis\u001b[39m=\u001b[39;49maxis)\n",
      "File \u001b[0;32m<__array_function__ internals>:180\u001b[0m, in \u001b[0;36mconcatenate\u001b[0;34m(*args, **kwargs)\u001b[0m\n",
      "\u001b[0;31mAxisError\u001b[0m: axis 1 is out of bounds for array of dimension 1"
     ]
    }
   ],
   "source": [
    "# Add total sales as a new column\n",
    "data = np.append(data, total_sales[:, None], axis=1)\n",
    "data"
   ]
  },
  {
   "cell_type": "markdown",
   "metadata": {},
   "source": [
    "When working with structured arrays in NumPy, adding a new column isn't as straightforward as in Pandas (some other library we will see later) or regular NumPy arrays, because each \"column\" in a structured array can have a different type. Instead, you need to create a new structured array that includes the new field. "
   ]
  },
  {
   "cell_type": "code",
   "execution_count": 23,
   "metadata": {},
   "outputs": [
    {
     "name": "stdout",
     "output_type": "stream",
     "text": [
      "New Data with Total Sales: [('Widget', 20, 6.99, 139.79999) ('Gadget', 15, 4.99,  74.85   )\n",
      " ('Doodad', 30, 3.5 , 105.     )]\n"
     ]
    }
   ],
   "source": [
    "#Corrected method to add a new column\n",
    "# Calculate total sales for each product\n",
    "total_sales = data['Quantity'] * data['Price']\n",
    "\n",
    "# Define a new data type that includes total sales\n",
    "new_data_type = [('Product', 'U10'), ('Quantity', 'i4'), ('Price', 'f4'), ('Total Sales', 'f4')]\n",
    "\n",
    "# Create a new array with the additional column\n",
    "new_data = np.zeros(data.shape, dtype=new_data_type)\n",
    "\n",
    "# Assign existing data to the new array\n",
    "for field in data.dtype.names:\n",
    "    new_data[field] = data[field]\n",
    "\n",
    "# Add the total sales data\n",
    "new_data['Total Sales'] = total_sales\n",
    "\n",
    "# Print results\n",
    "print(\"New Data with Total Sales:\", new_data)"
   ]
  },
  {
   "cell_type": "code",
   "execution_count": 27,
   "metadata": {},
   "outputs": [
    {
     "data": {
      "text/plain": [
       "array([ True, False,  True])"
      ]
     },
     "execution_count": 27,
     "metadata": {},
     "output_type": "execute_result"
    }
   ],
   "source": [
    "new_data['Total Sales']>103"
   ]
  },
  {
   "cell_type": "code",
   "execution_count": 28,
   "metadata": {},
   "outputs": [
    {
     "data": {
      "text/plain": [
       "array([('Widget', 20, 6.99, 139.79999), ('Doodad', 30, 3.5 , 105.     )],\n",
       "      dtype=[('Product', '<U10'), ('Quantity', '<i4'), ('Price', '<f4'), ('Total Sales', '<f4')])"
      ]
     },
     "execution_count": 28,
     "metadata": {},
     "output_type": "execute_result"
    }
   ],
   "source": [
    "new_data[new_data['Total Sales']>103]"
   ]
  },
  {
   "cell_type": "code",
   "execution_count": 29,
   "metadata": {},
   "outputs": [
    {
     "data": {
      "text/plain": [
       "array(['Widget', 'Doodad'], dtype='<U10')"
      ]
     },
     "execution_count": 29,
     "metadata": {},
     "output_type": "execute_result"
    }
   ],
   "source": [
    "new_data[new_data['Total Sales']>103][\"Product\"]"
   ]
  },
  {
   "cell_type": "code",
   "execution_count": null,
   "metadata": {},
   "outputs": [],
   "source": []
  }
 ],
 "metadata": {
  "kernelspec": {
   "display_name": "base",
   "language": "python",
   "name": "python3"
  },
  "language_info": {
   "codemirror_mode": {
    "name": "ipython",
    "version": 3
   },
   "file_extension": ".py",
   "mimetype": "text/x-python",
   "name": "python",
   "nbconvert_exporter": "python",
   "pygments_lexer": "ipython3",
   "version": "3.10.6"
  }
 },
 "nbformat": 4,
 "nbformat_minor": 2
}
