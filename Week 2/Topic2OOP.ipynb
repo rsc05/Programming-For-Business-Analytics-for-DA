{
 "cells": [
  {
   "cell_type": "markdown",
   "metadata": {},
   "source": [
    "# Lesson 1: Basics of Classes and Objects\n",
    "\n",
    "To define a class in Python, you can use the class keyword, followed by the class name and a colon. Inside the class, an __init__ method has to be defined with def. \n",
    "\n",
    "This is the initializer that you can later use to instantiate objects. __init__ must always be present! It takes one argument: self, which refers to the object itself. Inside the method, the pass keyword is used as of now, because Python expects you to type something there. Remember to use correct indentation!\n",
    "\n",
    "Let us demonstrate this using our primary example will be a BankAccount class, which will lay the foundation for more complex financial models.\n",
    "\n",
    "## Defining a Class in Python\n",
    "A class is a blueprint for creating objects (a particular data structure), providing initial values for state (member variables or attributes), and implementations of behavior (member functions or methods).\n"
   ]
  },
  {
   "cell_type": "code",
   "execution_count": 1,
   "metadata": {},
   "outputs": [
    {
     "ename": "SyntaxError",
     "evalue": "incomplete input (804668107.py, line 4)",
     "output_type": "error",
     "traceback": [
      "\u001b[0;36m  Cell \u001b[0;32mIn[1], line 4\u001b[0;36m\u001b[0m\n\u001b[0;31m    # Initialization code\u001b[0m\n\u001b[0m                         ^\u001b[0m\n\u001b[0;31mSyntaxError\u001b[0m\u001b[0;31m:\u001b[0m incomplete input\n"
     ]
    }
   ],
   "source": [
    "# Here's a basic structure of a class in Python:\n",
    "class ClassName:\n",
    "    def __init__(self, attributes):\n",
    "        # Initialization code"
   ]
  },
  {
   "cell_type": "markdown",
   "metadata": {},
   "source": [
    "Initialization with __init__ Method:\n",
    "\n",
    "The __init__ method is a special method in Python classes. It's called when an object is created from the class and it allows the class to initialize the attributes of the class.\n",
    "\n",
    "## Creating the BankAccount Class\n",
    "Let's create a simple BankAccount class to represent a bank account in a financial system."
   ]
  },
  {
   "cell_type": "code",
   "execution_count": 2,
   "metadata": {},
   "outputs": [],
   "source": [
    "class BankAccount:\n",
    "    def __init__(self, balance=0):\n",
    "        self.balance = balance\n"
   ]
  },
  {
   "cell_type": "markdown",
   "metadata": {},
   "source": [
    "Here, BankAccount has an attribute balance, which is set when the account is created. The __init__ method is a special method called a constructor, which is called when a new instance of the class is created.\n",
    "\n",
    "## Creating an Instance of a Class\n",
    "To create an instance (object) of the BankAccount class, you simply call the class as if it were a function, passing the necessary arguments:"
   ]
  },
  {
   "cell_type": "code",
   "execution_count": 3,
   "metadata": {},
   "outputs": [
    {
     "data": {
      "text/plain": [
       "<__main__.BankAccount at 0x104423460>"
      ]
     },
     "execution_count": 3,
     "metadata": {},
     "output_type": "execute_result"
    }
   ],
   "source": [
    "my_account = BankAccount(1000)\n",
    "his_account= BankAccount(550)\n",
    "my_account"
   ]
  },
  {
   "cell_type": "markdown",
   "metadata": {},
   "source": [
    "Here, my_account is an object of the BankAccount class with an initial balance of 1000. \n",
    "\n",
    "You can access the balance attribute of each of the defined balances of the class BankAccount as follow:"
   ]
  },
  {
   "cell_type": "code",
   "execution_count": 4,
   "metadata": {},
   "outputs": [
    {
     "data": {
      "text/plain": [
       "1000"
      ]
     },
     "execution_count": 4,
     "metadata": {},
     "output_type": "execute_result"
    }
   ],
   "source": [
    "my_account.balance"
   ]
  },
  {
   "cell_type": "code",
   "execution_count": 5,
   "metadata": {},
   "outputs": [
    {
     "data": {
      "text/plain": [
       "550"
      ]
     },
     "execution_count": 5,
     "metadata": {},
     "output_type": "execute_result"
    }
   ],
   "source": [
    "his_account.balance"
   ]
  },
  {
   "cell_type": "markdown",
   "metadata": {},
   "source": [
    "## Adding Methods to the Class\n",
    "Methods define the behaviors of an object. For our BankAccount, we'll add deposit and withdraw methods."
   ]
  },
  {
   "cell_type": "code",
   "execution_count": 6,
   "metadata": {},
   "outputs": [],
   "source": [
    "class BankAccount:\n",
    "    def __init__(self, balance=0):\n",
    "        self.balance = balance\n",
    "\n",
    "    def deposit(self, amount):\n",
    "        self.balance += amount\n",
    "        return self.balance\n",
    "\n",
    "    def withdraw(self, amount):\n",
    "        if amount > self.balance:\n",
    "            raise ValueError(\"Insufficient funds\")\n",
    "        self.balance -= amount\n",
    "        return self.balance\n"
   ]
  },
  {
   "cell_type": "code",
   "execution_count": 7,
   "metadata": {},
   "outputs": [],
   "source": [
    "my_account = BankAccount(1000)\n",
    "Rami_account= BankAccount(550)"
   ]
  },
  {
   "cell_type": "code",
   "execution_count": 8,
   "metadata": {},
   "outputs": [
    {
     "name": "stdout",
     "output_type": "stream",
     "text": [
      "Balance after 100 deposit, Rami's account has a balance of: 1550\n"
     ]
    }
   ],
   "source": [
    "Rami_account.deposit(1000)\n",
    "print(f\"Balance after 100 deposit, Rami's account has a balance of: {Rami_account.balance}\")"
   ]
  },
  {
   "cell_type": "markdown",
   "metadata": {},
   "source": [
    "## Class with more than one input\n",
    "\n",
    "The preceding example serves as a basic demonstration of how to begin using object-oriented programming (OOP) in Python, using a straightforward class as an example. You can certainly enhance its appeal and relevance to suit your specific requirements.\n",
    "\n",
    "Now, let us develop the BankAccount class to take in two arguments. Particularly, this enhanced class encapsulates some important properties such as the owner of the account and its balance. This approach allows us to create a more realistic and practical model of a bank account, reflecting real-world scenarios more accurately.\n",
    "\n",
    "Furthermore, let us introduce a feature that allows one bank account to be linked with another, simulating real-life scenarios such as joint accounts or linked savings and checking accounts. The method establishes a bidirectional relationship, where each account references the other. This showcases the use of object references and the interconnectivity possible in OOP."
   ]
  },
  {
   "cell_type": "code",
   "execution_count": 9,
   "metadata": {},
   "outputs": [],
   "source": [
    "class BankAccount:\n",
    "\n",
    "    def __init__(self, owner, balance=0):\n",
    "        self.owner = owner\n",
    "        self.balance = balance\n",
    "\n",
    "    def deposit(self, amount):\n",
    "        self.balance += amount\n",
    "        print(f\"{amount} deposited. New balance: {self.balance}\")\n",
    "\n",
    "    def withdraw(self, amount):\n",
    "        if amount > self.balance:\n",
    "            print(\"Insufficient funds!\")\n",
    "        else:\n",
    "            self.balance -= amount\n",
    "            print(f\"{amount} withdrawn. New balance: {self.balance}\")\n",
    "\n",
    "    def account_info(self):\n",
    "        print(f\"Account owner: {self.owner} | Current balance: {self.balance}\")\n",
    "\n",
    "    def set_partner_account(self, partner_account):\n",
    "        self.partner_account = partner_account\n",
    "        partner_account.partner_account = self\n"
   ]
  },
  {
   "cell_type": "markdown",
   "metadata": {},
   "source": [
    "## Example 1: Creating BankAccount Instances\n",
    "* Two instances of BankAccount are created: account1 for Alice with an initial balance of 1000, and account2 for Bob with a balance of 500.\n",
    "* The account_info method is called for both accounts, displaying the owner's name and the current balance."
   ]
  },
  {
   "cell_type": "code",
   "execution_count": 10,
   "metadata": {},
   "outputs": [
    {
     "name": "stdout",
     "output_type": "stream",
     "text": [
      "Account owner: Alice | Current balance: 1000\n",
      "Account owner: Bob | Current balance: 500\n"
     ]
    }
   ],
   "source": [
    "# Creating two bank account instances\n",
    "account1 = BankAccount(\"Alice\", 1000)\n",
    "account2 = BankAccount(\"Bob\", 500)\n",
    "\n",
    "# Displaying account information for both accounts\n",
    "account1.account_info()\n",
    "account2.account_info()\n"
   ]
  },
  {
   "cell_type": "markdown",
   "metadata": {},
   "source": [
    "## Example 2: Making Deposits\n",
    "* Two instances of BankAccount are created: account1 for Alice with an initial balance of 1000, and account2 for Bob with a balance of 500.\n",
    "* he account_info method is called for both accounts, displaying the owner's name and the current balance."
   ]
  },
  {
   "cell_type": "code",
   "execution_count": 11,
   "metadata": {},
   "outputs": [
    {
     "name": "stdout",
     "output_type": "stream",
     "text": [
      "200 deposited. New balance: 1200\n",
      "300 deposited. New balance: 800\n",
      "Account owner: Alice | Current balance: 1200\n",
      "Account owner: Bob | Current balance: 800\n"
     ]
    }
   ],
   "source": [
    "# Alice deposits 200\n",
    "account1.deposit(200)\n",
    "\n",
    "# Bob deposits 300\n",
    "account2.deposit(300)\n",
    "\n",
    "# Displaying updated account information\n",
    "account1.account_info()\n",
    "account2.account_info()\n"
   ]
  },
  {
   "cell_type": "markdown",
   "metadata": {},
   "source": [
    "## Example 3: Setting a Partner Account\n",
    "* The set_partner_account method is used to link account1 and account2 as partner accounts.\n",
    "* We then print the partner account owner's name for each account to verify the link."
   ]
  },
  {
   "cell_type": "code",
   "execution_count": 12,
   "metadata": {},
   "outputs": [
    {
     "name": "stdout",
     "output_type": "stream",
     "text": [
      "Account1's partner: Bob\n",
      "Account2's partner: Alice\n"
     ]
    }
   ],
   "source": [
    "# Setting each other as partner accounts\n",
    "account1.set_partner_account(account2)\n",
    "\n",
    "# Verifying the partner account setup\n",
    "print(f\"Account1's partner: {account1.partner_account.owner}\")\n",
    "print(f\"Account2's partner: {account2.partner_account.owner}\")\n"
   ]
  },
  {
   "cell_type": "markdown",
   "metadata": {},
   "source": [
    "Assignment: In the current implementation of the BankAccount class, the set_partner_account method only establishes a reference between two bank account objects, but it doesn't provide functionality for a partner account to directly deposit money into the main account. Each account can only deposit into its own balance through the deposit method. Can you enhance this class to enable a partner account to deposit money into the main account? Try doing it before looking into the solution. "
   ]
  },
  {
   "cell_type": "code",
   "execution_count": 13,
   "metadata": {},
   "outputs": [],
   "source": [
    "class BankAccount:\n",
    "\n",
    "    def __init__(self, owner, balance=0):\n",
    "        self.owner = owner\n",
    "        self.balance = balance\n",
    "\n",
    "    def deposit(self, amount):\n",
    "        self.balance += amount\n",
    "        print(f\"{amount} deposited. New balance: {self.balance}\")\n",
    "\n",
    "    def withdraw(self, amount):\n",
    "        if amount > self.balance:\n",
    "            print(\"Insufficient funds!\")\n",
    "        else:\n",
    "            self.balance -= amount\n",
    "            print(f\"{amount} withdrawn. New balance: {self.balance}\")\n",
    "\n",
    "    def account_info(self):\n",
    "        print(f\"Account owner: {self.owner} | Current balance: {self.balance}\")\n",
    "\n",
    "    def set_partner_account(self, partner_account):\n",
    "        self.partner_account = partner_account\n",
    "        partner_account.partner_account = self\n",
    "\n",
    "    def partner_deposit(self, amount):\n",
    "        if hasattr(self, 'partner_account') and self.partner_account.balance >= amount:\n",
    "            self.balance += amount\n",
    "            self.partner_account.balance -= amount\n",
    "            print(f\"Partner deposited {amount}. New balance: {self.balance}\")\n",
    "            print(f\"Partner new balance: {self.partner_account.balance}\")\n",
    "        else:\n",
    "            print(\"Either no partner account linked or insufficient funds in partner account.\")\n"
   ]
  },
  {
   "cell_type": "code",
   "execution_count": 14,
   "metadata": {},
   "outputs": [
    {
     "name": "stdout",
     "output_type": "stream",
     "text": [
      "Partner deposited 100. New balance: 1100\n",
      "Partner new balance: 400\n",
      "Account owner: Alice | Current balance: 1100\n",
      "Account owner: Bob | Current balance: 400\n"
     ]
    }
   ],
   "source": [
    "# Creating two bank account instances\n",
    "account1 = BankAccount(\"Alice\", 1000)\n",
    "account2 = BankAccount(\"Bob\", 500)\n",
    "\n",
    "\n",
    "# Setting each other as partner accounts\n",
    "account1.set_partner_account(account2)\n",
    "\n",
    "# Account2 (partner of account1) deposits 100 into account1\n",
    "account1.partner_deposit(100)\n",
    "\n",
    "# Displaying updated account information for both accounts\n",
    "account1.account_info()\n",
    "account2.account_info()"
   ]
  },
  {
   "cell_type": "markdown",
   "metadata": {},
   "source": [
    "## Assignment \n",
    "\n",
    "Now the above is a bit problematic, the above is only possible when we have only one partner, what if the account has more than one partner? Can you modify the code to handle multiple partner accounts in the BankAccount class? \n",
    "\n",
    "NB: Please try to do this before looking into the solution provided. "
   ]
  },
  {
   "cell_type": "markdown",
   "metadata": {},
   "source": [
    "To handle multiple partner accounts in the BankAccount class, you would need to modify the structure to support multiple associations. Instead of having a single partner_account, you could use a list to store multiple partner accounts. Additionally, you would need a way to specify which partner account is involved in a transaction, such as through an identifier or directly passing the partner account object. Here's how you can modify the class to support multiple partners:\n",
    "\n",
    "## Modifying the BankAccount Class for Multiple Partners\n",
    "\n",
    "**Updating the Partner Account Attribute**\n",
    "\n",
    "To facilitate multiple partners, we will replace the single `partner_account` attribute with an initially empty list of partners.\n",
    "\n",
    "**Introducing a Method to Add Partners**\n",
    "\n",
    "We will create a dedicated method to add partner accounts to this list.\n",
    "\n",
    "**Enhancing the `partner_deposit` Method**\n",
    "\n",
    "The `partner_deposit` method will be improved to allow specification of the partner making the deposit.\n"
   ]
  },
  {
   "cell_type": "code",
   "execution_count": 15,
   "metadata": {},
   "outputs": [],
   "source": [
    "class BankAccount:\n",
    "    def __init__(self, owner, balance=0):\n",
    "        self.owner = owner\n",
    "        self.balance = balance\n",
    "        self.partner_accounts = []  # A list to hold partner accounts\n",
    "\n",
    "\n",
    "    def add_partner_account(self, partner_account):\n",
    "        self.partner_accounts.append(partner_account)\n",
    "        partner_account.partner_accounts.append(self)\n",
    "\n",
    "\n",
    "    def withdraw(self, amount):\n",
    "        if amount > self.balance:\n",
    "            print(\"Insufficient funds!\")\n",
    "        else:\n",
    "            self.balance -= amount\n",
    "            print(f\"{amount} withdrawn. New balance: {self.balance}\")\n",
    "\n",
    "    def account_info(self):\n",
    "        print(f\"Account owner: {self.owner} | Current balance: {self.balance}\")\n",
    "\n",
    "    def partner_deposit(self, partner_owner, amount):\n",
    "            for partner in self.partner_accounts:\n",
    "                if partner.owner == partner_owner and partner.balance >= amount:\n",
    "                    self.balance += amount\n",
    "                    partner.balance -= amount\n",
    "                    print(f\"{partner_owner} deposited {amount}. New balance of {self.owner} is: {self.balance}\")\n",
    "                    print(f\"{partner_owner}'s new balance: {partner.balance}\")\n",
    "                    return\n",
    "            print(\"Either no matching partner found or insufficient funds in partner account.\")\n"
   ]
  },
  {
   "cell_type": "code",
   "execution_count": 16,
   "metadata": {},
   "outputs": [],
   "source": [
    "# Creating two bank account instances\n",
    "account1 = BankAccount(\"Alice\", 1000)\n",
    "account2 = BankAccount(\"Bob\", 500)\n",
    "account3 = BankAccount(\"Rami\", 1225)\n",
    "\n",
    "# Adding account2 and account3 as partners of account1\n",
    "account1.add_partner_account(account2)\n",
    "account1.add_partner_account(account3)"
   ]
  },
  {
   "cell_type": "code",
   "execution_count": 17,
   "metadata": {},
   "outputs": [
    {
     "name": "stdout",
     "output_type": "stream",
     "text": [
      "Bob deposited 100. New balance of Alice is: 1100\n",
      "Bob's new balance: 400\n"
     ]
    }
   ],
   "source": [
    "# Account2 deposits into account1\n",
    "account1.partner_deposit(\"Bob\", 100)"
   ]
  },
  {
   "cell_type": "code",
   "execution_count": 18,
   "metadata": {},
   "outputs": [
    {
     "name": "stdout",
     "output_type": "stream",
     "text": [
      "Account owner: Alice | Current balance: 1100\n",
      "Account owner: Bob | Current balance: 400\n",
      "Account owner: Rami | Current balance: 1225\n"
     ]
    }
   ],
   "source": [
    "# Displaying updated account information\n",
    "account1.account_info()\n",
    "account2.account_info()\n",
    "account3.account_info()"
   ]
  },
  {
   "cell_type": "code",
   "execution_count": 19,
   "metadata": {},
   "outputs": [
    {
     "name": "stdout",
     "output_type": "stream",
     "text": [
      "Either no matching partner found or insufficient funds in partner account.\n"
     ]
    }
   ],
   "source": [
    "# Account2 deposits into account1\n",
    "account2.partner_deposit(\"Rami\", 100)"
   ]
  },
  {
   "cell_type": "markdown",
   "metadata": {},
   "source": [
    "This is because Rami and Bob accounts are not being added as partners"
   ]
  },
  {
   "cell_type": "code",
   "execution_count": 20,
   "metadata": {},
   "outputs": [
    {
     "name": "stdout",
     "output_type": "stream",
     "text": [
      "Rami deposited 100. New balance of Bob is: 500\n",
      "Rami's new balance: 1125\n"
     ]
    }
   ],
   "source": [
    "# Adding rami as a business partner to bob and trying again\n",
    "account2.add_partner_account(account3)\n",
    "# Account2 deposits into account1\n",
    "account2.partner_deposit(\"Rami\", 100)"
   ]
  },
  {
   "cell_type": "code",
   "execution_count": null,
   "metadata": {},
   "outputs": [],
   "source": []
  }
 ],
 "metadata": {
  "kernelspec": {
   "display_name": "base",
   "language": "python",
   "name": "python3"
  },
  "language_info": {
   "codemirror_mode": {
    "name": "ipython",
    "version": 3
   },
   "file_extension": ".py",
   "mimetype": "text/x-python",
   "name": "python",
   "nbconvert_exporter": "python",
   "pygments_lexer": "ipython3",
   "version": "3.10.6"
  }
 },
 "nbformat": 4,
 "nbformat_minor": 2
}
