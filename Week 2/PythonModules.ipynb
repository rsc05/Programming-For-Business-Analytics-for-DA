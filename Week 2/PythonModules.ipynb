{
 "cells": [
  {
   "cell_type": "markdown",
   "metadata": {},
   "source": [
    "# Python Modules: Organizing Code into Reusable Parts\n",
    "\n",
    "In Python, a module is a file containing Python definitions and statements. It can define functions, classes, and variables. Modules help organize your code into reusable parts. Think of them as separate compartments in a toolbox, each containing a set of tools that you can use in your programs.\n",
    "\n",
    "## Creating a Simple Module\n",
    "\n",
    "Let's create a simple module **SimpleFinance.py** in which we define a class (`BankAccount`) and two functions: `transfer_funds` and `total_balance`.\n",
    "\n",
    "### `transfer_funds` Function\n",
    "\n",
    "The `transfer_funds` function takes two `BankAccount` instances, a sender, and a receiver, along with the transfer amount. It checks if the sender has sufficient balance and performs the transfer if possible.\n",
    "\n",
    "### `total_balance` Function\n",
    "\n",
    "The `total_balance` function takes a list of `BankAccount` instances and calculates the total balance by summing up the balances of all accounts in the list.\n"
   ]
  },
  {
   "cell_type": "markdown",
   "metadata": {},
   "source": [
    "# Look at the file SimpleFinance.py\n",
    "\n",
    "Here, you are adviced to have a look into the code, which is available in a seperate file called SimpleFinance.py \n",
    "\n",
    "# Import module in Python\n",
    "We can import the functions, and classes defined in a module to another module using the import statement in some other Python source file."
   ]
  },
  {
   "cell_type": "code",
   "execution_count": 1,
   "metadata": {},
   "outputs": [],
   "source": [
    "# import the python module you want to use\n",
    "import SimpleFinance as SM"
   ]
  },
  {
   "cell_type": "markdown",
   "metadata": {},
   "source": [
    "The prior line of code implies that we will take all of the Classes, functions, and variables found in the file SimpleFinance.py. It's worth noting that if a module is in the same directory as the script or notebook you're working on, it can be imported directly by name. As we did in this file. However, if it is not in the same working directory, we must take different steps, as we will discuss later. \n",
    "\n",
    "Moreover, it is important to realze the keyword \"as\" in \"import SimpleFinance as SM\". The as keyword in Python is used in import statements to create an alias for an imported module. This means you can refer to the module using a different name (usually a shorter one) for the rest of your script or notebook. This practice is common for modules that are frequently used or have longer names."
   ]
  },
  {
   "cell_type": "code",
   "execution_count": 2,
   "metadata": {},
   "outputs": [
    {
     "ename": "NameError",
     "evalue": "name 'BankAccount' is not defined",
     "output_type": "error",
     "traceback": [
      "\u001b[0;31m---------------------------------------------------------------------------\u001b[0m",
      "\u001b[0;31mNameError\u001b[0m                                 Traceback (most recent call last)",
      "\u001b[1;32m/Users/ramichehab/Library/CloudStorage/OneDrive-UniversityofExeter/Modules Lead/Programming for Business Analytics (bef2011da)/ELE Page/ELE Programs/Week 2/PythonModules.ipynb Cell 5\u001b[0m line \u001b[0;36m2\n\u001b[1;32m      <a href='vscode-notebook-cell:/Users/ramichehab/Library/CloudStorage/OneDrive-UniversityofExeter/Modules%20Lead/Programming%20for%20Business%20Analytics%20%28bef2011da%29/ELE%20Page/ELE%20Programs/Week%202/PythonModules.ipynb#X22sZmlsZQ%3D%3D?line=0'>1</a>\u001b[0m \u001b[39m# Creating some BankAccount instances for demonstration\u001b[39;00m\n\u001b[0;32m----> <a href='vscode-notebook-cell:/Users/ramichehab/Library/CloudStorage/OneDrive-UniversityofExeter/Modules%20Lead/Programming%20for%20Business%20Analytics%20%28bef2011da%29/ELE%20Page/ELE%20Programs/Week%202/PythonModules.ipynb#X22sZmlsZQ%3D%3D?line=1'>2</a>\u001b[0m account1 \u001b[39m=\u001b[39m BankAccount(\u001b[39m\"\u001b[39m\u001b[39mAlice\u001b[39m\u001b[39m\"\u001b[39m, \u001b[39m1000\u001b[39m)\n",
      "\u001b[0;31mNameError\u001b[0m: name 'BankAccount' is not defined"
     ]
    }
   ],
   "source": [
    "# Creating some BankAccount instances for demonstration\n",
    "account1 = BankAccount(\"Alice\", 1000)"
   ]
  },
  {
   "cell_type": "code",
   "execution_count": 3,
   "metadata": {},
   "outputs": [],
   "source": [
    "# Creating some BankAccount instances for demonstration\n",
    "account1 = SM.BankAccount(\"Alice\", 1000)\n",
    "account2 = SM.BankAccount(\"Bob\", 500)"
   ]
  },
  {
   "cell_type": "code",
   "execution_count": 4,
   "metadata": {},
   "outputs": [
    {
     "name": "stdout",
     "output_type": "stream",
     "text": [
      "200 deposited. New balance: 1200\n",
      "150 withdrawn. New balance: 1050\n"
     ]
    }
   ],
   "source": [
    "# Demonstrating deposit and withdraw methods\n",
    "account1.deposit(200)\n",
    "account1.withdraw(150)"
   ]
  },
  {
   "cell_type": "code",
   "execution_count": 5,
   "metadata": {},
   "outputs": [
    {
     "name": "stdout",
     "output_type": "stream",
     "text": [
      "Account owner: Alice | Current balance: 1050\n",
      "Account owner: Bob | Current balance: 500\n"
     ]
    }
   ],
   "source": [
    "# Displaying account information\n",
    "account1.account_info()\n",
    "account2.account_info()"
   ]
  },
  {
   "cell_type": "code",
   "execution_count": 6,
   "metadata": {},
   "outputs": [
    {
     "name": "stdout",
     "output_type": "stream",
     "text": [
      "Bob deposited 100. New balance of Alice is: 1150\n",
      "Bob's new balance: 400\n"
     ]
    }
   ],
   "source": [
    "# Setting up a partner account and demonstrating partner deposit particularly adding account2 as partners of account1\n",
    "account1.add_partner_account(account2)\n",
    "account1.partner_deposit(\"Bob\",100)"
   ]
  },
  {
   "cell_type": "code",
   "execution_count": 7,
   "metadata": {},
   "outputs": [
    {
     "ename": "NameError",
     "evalue": "name 'transfer_funds' is not defined",
     "output_type": "error",
     "traceback": [
      "\u001b[0;31m---------------------------------------------------------------------------\u001b[0m",
      "\u001b[0;31mNameError\u001b[0m                                 Traceback (most recent call last)",
      "\u001b[1;32m/Users/ramichehab/Library/CloudStorage/OneDrive-UniversityofExeter/Modules Lead/Programming for Business Analytics (bef2011da)/ELE Page/ELE Programs/Week 2/PythonModules.ipynb Cell 10\u001b[0m line \u001b[0;36m2\n\u001b[1;32m      <a href='vscode-notebook-cell:/Users/ramichehab/Library/CloudStorage/OneDrive-UniversityofExeter/Modules%20Lead/Programming%20for%20Business%20Analytics%20%28bef2011da%29/ELE%20Page/ELE%20Programs/Week%202/PythonModules.ipynb#X30sZmlsZQ%3D%3D?line=0'>1</a>\u001b[0m \u001b[39m# Demonstrating fund transfer\u001b[39;00m\n\u001b[0;32m----> <a href='vscode-notebook-cell:/Users/ramichehab/Library/CloudStorage/OneDrive-UniversityofExeter/Modules%20Lead/Programming%20for%20Business%20Analytics%20%28bef2011da%29/ELE%20Page/ELE%20Programs/Week%202/PythonModules.ipynb#X30sZmlsZQ%3D%3D?line=1'>2</a>\u001b[0m transfer_funds(account1, account2, \u001b[39m300\u001b[39m)\n",
      "\u001b[0;31mNameError\u001b[0m: name 'transfer_funds' is not defined"
     ]
    }
   ],
   "source": [
    "# Demonstrating fund transfer\n",
    "transfer_funds(account1, account2, 300)"
   ]
  },
  {
   "cell_type": "code",
   "execution_count": 8,
   "metadata": {},
   "outputs": [
    {
     "name": "stdout",
     "output_type": "stream",
     "text": [
      "300 withdrawn. New balance: 850\n",
      "300 deposited. New balance: 700\n",
      "Funds transferred successfully: 300 from Alice to Bob\n"
     ]
    }
   ],
   "source": [
    "# Demonstrating fund transfer\n",
    "SM.transfer_funds(account1, account2, 300)"
   ]
  },
  {
   "cell_type": "code",
   "execution_count": 9,
   "metadata": {},
   "outputs": [
    {
     "ename": "NameError",
     "evalue": "name 'total_balance' is not defined",
     "output_type": "error",
     "traceback": [
      "\u001b[0;31m---------------------------------------------------------------------------\u001b[0m",
      "\u001b[0;31mNameError\u001b[0m                                 Traceback (most recent call last)",
      "\u001b[1;32m/Users/ramichehab/Library/CloudStorage/OneDrive-UniversityofExeter/Modules Lead/Programming for Business Analytics (bef2011da)/ELE Page/ELE Programs/Week 2/PythonModules.ipynb Cell 12\u001b[0m line \u001b[0;36m2\n\u001b[1;32m      <a href='vscode-notebook-cell:/Users/ramichehab/Library/CloudStorage/OneDrive-UniversityofExeter/Modules%20Lead/Programming%20for%20Business%20Analytics%20%28bef2011da%29/ELE%20Page/ELE%20Programs/Week%202/PythonModules.ipynb#X21sZmlsZQ%3D%3D?line=0'>1</a>\u001b[0m \u001b[39m# Checking total balance of both accounts\u001b[39;00m\n\u001b[0;32m----> <a href='vscode-notebook-cell:/Users/ramichehab/Library/CloudStorage/OneDrive-UniversityofExeter/Modules%20Lead/Programming%20for%20Business%20Analytics%20%28bef2011da%29/ELE%20Page/ELE%20Programs/Week%202/PythonModules.ipynb#X21sZmlsZQ%3D%3D?line=1'>2</a>\u001b[0m \u001b[39mprint\u001b[39m(\u001b[39m\"\u001b[39m\u001b[39mTotal balance of all accounts:\u001b[39m\u001b[39m\"\u001b[39m, total_balance([account1, account2]))\n",
      "\u001b[0;31mNameError\u001b[0m: name 'total_balance' is not defined"
     ]
    }
   ],
   "source": [
    "# Checking total balance of both accounts\n",
    "print(\"Total balance of all accounts:\", total_balance([account1, account2]))"
   ]
  },
  {
   "cell_type": "code",
   "execution_count": 10,
   "metadata": {},
   "outputs": [
    {
     "name": "stdout",
     "output_type": "stream",
     "text": [
      "Total balance of all accounts: 1550\n"
     ]
    }
   ],
   "source": [
    "# Checking total balance of both accounts\n",
    "print(\"Total balance of all accounts:\", SM.total_balance([account1, account2]))"
   ]
  },
  {
   "cell_type": "markdown",
   "metadata": {},
   "source": [
    "# Refresher/Clarification on the variables used throught the Python module **SimpleFinance.py** \n",
    "\n",
    "## BankAccount Class in Python\n",
    "\n",
    "### Instance Variables\n",
    "- `self.owner`: Represents the owner of the bank account. Set upon the creation of a `BankAccount` instance.\n",
    "- `self.balance`: Stores the current balance of the bank account. Initialized in the `__init__` method and modified in the `deposit`, `withdraw`, and `partner_deposit` methods.\n",
    "- `self.partner_account`: Set by the `set_partner_account` method to link two bank accounts, if required.\n",
    "\n",
    "### Method Parameters and Local Variables\n",
    "- Each method contains parameters (such as `amount` in `deposit`, `withdraw`, and `partner_deposit`) that act as local variables within the method's scope.\n",
    "- No additional local variables are declared within the methods, separate from the parameters.\n",
    "\n",
    "### Global Variables\n",
    "- The code does not use any global variables. All variables are encapsulated within the class or within the standalone functions (`transfer_funds` and `total_balance`).\n",
    "\n",
    "### Notes\n",
    "- Instance variables are specific to each instance of a class, allowing each `BankAccount` object to maintain its own state.\n",
    "- The absence of global variables in this code is a good practice, promoting modularity and ease of maintenance.\n"
   ]
  },
  {
   "cell_type": "markdown",
   "metadata": {},
   "source": [
    "# Challenge\n",
    "\n",
    "Here, I would like to introduce to our original module a new global variable called interest_rate. The interest_rate variable would represent a fixed interest rate applied to all bank accounts. This rate could be used in a new method to calculate interest over time for each account. Here's how you can modify the class to include this global variable. \n",
    "\n",
    "Take a look into the file SimpleFinance-Global-Variable.py. In this file, which is very similar to the original file , we introduce interest_rate as a global variable, all instances of BankAccount will use the same interest rate, making it easy to adjust the rate for all accounts simultaneously if needed.\n",
    "\n"
   ]
  },
  {
   "cell_type": "code",
   "execution_count": 13,
   "metadata": {},
   "outputs": [],
   "source": [
    "import SimpleFinance_Global_Variable as SFGV"
   ]
  },
  {
   "cell_type": "code",
   "execution_count": 15,
   "metadata": {},
   "outputs": [
    {
     "ename": "AttributeError",
     "evalue": "'BankAccount' object has no attribute 'apply_interest'",
     "output_type": "error",
     "traceback": [
      "\u001b[0;31m---------------------------------------------------------------------------\u001b[0m",
      "\u001b[0;31mAttributeError\u001b[0m                            Traceback (most recent call last)",
      "\u001b[1;32m/Users/ramichehab/Library/CloudStorage/OneDrive-UniversityofExeter/Modules Lead/Programming for Business Analytics (bef2011da)/ELE Page/ELE Programs/Week 2/PythonModules.ipynb Cell 17\u001b[0m line \u001b[0;36m2\n\u001b[1;32m      <a href='vscode-notebook-cell:/Users/ramichehab/Library/CloudStorage/OneDrive-UniversityofExeter/Modules%20Lead/Programming%20for%20Business%20Analytics%20%28bef2011da%29/ELE%20Page/ELE%20Programs/Week%202/PythonModules.ipynb#X34sZmlsZQ%3D%3D?line=0'>1</a>\u001b[0m \u001b[39m# Demonstrating the application of interest to each account\u001b[39;00m\n\u001b[0;32m----> <a href='vscode-notebook-cell:/Users/ramichehab/Library/CloudStorage/OneDrive-UniversityofExeter/Modules%20Lead/Programming%20for%20Business%20Analytics%20%28bef2011da%29/ELE%20Page/ELE%20Programs/Week%202/PythonModules.ipynb#X34sZmlsZQ%3D%3D?line=1'>2</a>\u001b[0m account1\u001b[39m.\u001b[39;49mapply_interest()\n",
      "\u001b[0;31mAttributeError\u001b[0m: 'BankAccount' object has no attribute 'apply_interest'"
     ]
    }
   ],
   "source": [
    "# Demonstrating the application of interest to each account\n",
    "account1.apply_interest()"
   ]
  },
  {
   "cell_type": "code",
   "execution_count": 16,
   "metadata": {},
   "outputs": [
    {
     "name": "stdout",
     "output_type": "stream",
     "text": [
      "Interest applied: 20.0. New balance: 1020.0\n"
     ]
    }
   ],
   "source": [
    "account1 = SFGV.BankAccount(\"Alice\", 1000)\n",
    "# Demonstrating the application of interest to each account\n",
    "account1.apply_interest()"
   ]
  },
  {
   "cell_type": "code",
   "execution_count": 17,
   "metadata": {},
   "outputs": [
    {
     "name": "stdout",
     "output_type": "stream",
     "text": [
      "Account owner: Alice | Current balance: 1020.0\n"
     ]
    }
   ],
   "source": [
    "# Displaying account information after interest application\n",
    "account1.account_info()"
   ]
  },
  {
   "cell_type": "code",
   "execution_count": 18,
   "metadata": {},
   "outputs": [
    {
     "name": "stdout",
     "output_type": "stream",
     "text": [
      "Total balance of all accounts: 1720.0\n"
     ]
    }
   ],
   "source": [
    "# Checking total balance of both accounts after all operations\n",
    "print(\"Total balance of all accounts:\", SM.total_balance([account1, account2]))\n"
   ]
  },
  {
   "cell_type": "code",
   "execution_count": 20,
   "metadata": {},
   "outputs": [
    {
     "name": "stdout",
     "output_type": "stream",
     "text": [
      "Total balance of all accounts: 1720.0\n"
     ]
    }
   ],
   "source": [
    "# Checking total balance of both accounts after all operations\n",
    "print(\"Total balance of all accounts:\", SFGV.total_balance([account1, account2]))"
   ]
  }
 ],
 "metadata": {
  "kernelspec": {
   "display_name": "base",
   "language": "python",
   "name": "python3"
  },
  "language_info": {
   "codemirror_mode": {
    "name": "ipython",
    "version": 3
   },
   "file_extension": ".py",
   "mimetype": "text/x-python",
   "name": "python",
   "nbconvert_exporter": "python",
   "pygments_lexer": "ipython3",
   "version": "3.10.6"
  }
 },
 "nbformat": 4,
 "nbformat_minor": 2
}
