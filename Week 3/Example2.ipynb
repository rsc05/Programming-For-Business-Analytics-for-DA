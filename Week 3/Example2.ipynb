{
 "cells": [
  {
   "cell_type": "code",
   "execution_count": null,
   "metadata": {},
   "outputs": [],
   "source": [
    "!pip install alpha_vantage"
   ]
  },
  {
   "cell_type": "markdown",
   "metadata": {},
   "source": [
    "The pip install command is meant to be run in your command line interface (CLI), not within a Python script or notebook cell.\n",
    "\n",
    "To install the alpha_vantage package, you should open your terminal, command prompt, or whichever CLI tool you use, and then run the command\n",
    "\n",
    "pip install alpha_vantage\n"
   ]
  },
  {
   "cell_type": "code",
   "execution_count": 1,
   "metadata": {},
   "outputs": [],
   "source": [
    "api_key='YOUR_API_KEY' # Replace with your Alpha Vantage API key"
   ]
  },
  {
   "cell_type": "code",
   "execution_count": 5,
   "metadata": {},
   "outputs": [],
   "source": [
    "import alpha_vantage.timeseries as ts1\n",
    "import pandas as pd\n",
    "\n",
    "\n",
    "# Initialize TimeSeries with your API key\n",
    "ts = ts1.TimeSeries(api_key)\n"
   ]
  },
  {
   "cell_type": "code",
   "execution_count": 6,
   "metadata": {},
   "outputs": [
    {
     "data": {
      "text/html": [
       "<div>\n",
       "<style scoped>\n",
       "    .dataframe tbody tr th:only-of-type {\n",
       "        vertical-align: middle;\n",
       "    }\n",
       "\n",
       "    .dataframe tbody tr th {\n",
       "        vertical-align: top;\n",
       "    }\n",
       "\n",
       "    .dataframe thead th {\n",
       "        text-align: right;\n",
       "    }\n",
       "</style>\n",
       "<table border=\"1\" class=\"dataframe\">\n",
       "  <thead>\n",
       "    <tr style=\"text-align: right;\">\n",
       "      <th></th>\n",
       "      <th>1. open</th>\n",
       "      <th>2. high</th>\n",
       "      <th>3. low</th>\n",
       "      <th>4. close</th>\n",
       "      <th>5. volume</th>\n",
       "      <th>Date</th>\n",
       "      <th>Time</th>\n",
       "    </tr>\n",
       "  </thead>\n",
       "  <tbody>\n",
       "    <tr>\n",
       "      <th>0</th>\n",
       "      <td>137.2800</td>\n",
       "      <td>137.5000</td>\n",
       "      <td>137.2000</td>\n",
       "      <td>137.2500</td>\n",
       "      <td>5749</td>\n",
       "      <td>2023-11-28</td>\n",
       "      <td>19:45:00</td>\n",
       "    </tr>\n",
       "    <tr>\n",
       "      <th>1</th>\n",
       "      <td>137.2000</td>\n",
       "      <td>137.2800</td>\n",
       "      <td>137.2000</td>\n",
       "      <td>137.2700</td>\n",
       "      <td>387</td>\n",
       "      <td>2023-11-28</td>\n",
       "      <td>19:30:00</td>\n",
       "    </tr>\n",
       "    <tr>\n",
       "      <th>2</th>\n",
       "      <td>137.2120</td>\n",
       "      <td>137.3100</td>\n",
       "      <td>137.2000</td>\n",
       "      <td>137.2600</td>\n",
       "      <td>814</td>\n",
       "      <td>2023-11-28</td>\n",
       "      <td>19:15:00</td>\n",
       "    </tr>\n",
       "    <tr>\n",
       "      <th>3</th>\n",
       "      <td>137.3200</td>\n",
       "      <td>137.3300</td>\n",
       "      <td>137.2000</td>\n",
       "      <td>137.2100</td>\n",
       "      <td>3048</td>\n",
       "      <td>2023-11-28</td>\n",
       "      <td>19:00:00</td>\n",
       "    </tr>\n",
       "    <tr>\n",
       "      <th>4</th>\n",
       "      <td>137.2680</td>\n",
       "      <td>137.3400</td>\n",
       "      <td>137.1400</td>\n",
       "      <td>137.2700</td>\n",
       "      <td>1520</td>\n",
       "      <td>2023-11-28</td>\n",
       "      <td>18:45:00</td>\n",
       "    </tr>\n",
       "  </tbody>\n",
       "</table>\n",
       "</div>"
      ],
      "text/plain": [
       "    1. open   2. high    3. low  4. close 5. volume        Date      Time\n",
       "0  137.2800  137.5000  137.2000  137.2500      5749  2023-11-28  19:45:00\n",
       "1  137.2000  137.2800  137.2000  137.2700       387  2023-11-28  19:30:00\n",
       "2  137.2120  137.3100  137.2000  137.2600       814  2023-11-28  19:15:00\n",
       "3  137.3200  137.3300  137.2000  137.2100      3048  2023-11-28  19:00:00\n",
       "4  137.2680  137.3400  137.1400  137.2700      1520  2023-11-28  18:45:00"
      ]
     },
     "execution_count": 6,
     "metadata": {},
     "output_type": "execute_result"
    }
   ],
   "source": [
    "# Fetch intraday data for 'GOOGL'\n",
    "data, _ = ts.get_intraday('GOOGL')\n",
    "\n",
    "# Create DataFrame with timestamps as a column\n",
    "df = pd.DataFrame.from_dict(data, orient='index').reset_index()\n",
    "\n",
    "# Rename 'index' to 'DateTime' and split into 'Date' and 'Time'\n",
    "df.rename(columns={'index': 'DateTime'}, inplace=True)\n",
    "df[['Date', 'Time']] = df['DateTime'].str.split(' ', expand=True)\n",
    "\n",
    "# Optionally drop the 'DateTime' column if it's no longer needed\n",
    "df.drop(columns=['DateTime'], inplace=True)\n",
    "\n",
    "# Display the final DataFrame\n",
    "df.head()\n"
   ]
  },
  {
   "cell_type": "code",
   "execution_count": 7,
   "metadata": {},
   "outputs": [
    {
     "data": {
      "text/plain": [
       "{'1. From_Currency Code': 'EUR',\n",
       " '2. From_Currency Name': 'Euro',\n",
       " '3. To_Currency Code': 'USD',\n",
       " '4. To_Currency Name': 'United States Dollar',\n",
       " '5. Exchange Rate': '1.09825000',\n",
       " '6. Last Refreshed': '2023-11-29 13:04:02',\n",
       " '7. Time Zone': 'UTC',\n",
       " '8. Bid Price': '1.09824300',\n",
       " '9. Ask Price': '1.09829400'}"
      ]
     },
     "execution_count": 7,
     "metadata": {},
     "output_type": "execute_result"
    }
   ],
   "source": [
    "from alpha_vantage.foreignexchange import ForeignExchange\n",
    "\n",
    "cc = ForeignExchange(key=api_key)\n",
    "# Get real-time exchange rate data (EUR to USD)\n",
    "data, _ = cc.get_currency_exchange_rate(from_currency='EUR', to_currency='USD')\n",
    "data\n"
   ]
  },
  {
   "cell_type": "code",
   "execution_count": 10,
   "metadata": {},
   "outputs": [
    {
     "name": "stdout",
     "output_type": "stream",
     "text": [
      "            1a. open (USD)  1b. open (USD)  2a. high (USD)  2b. high (USD)  \\\n",
      "date                                                                         \n",
      "2023-11-29        37818.88        37818.88        38093.72        38093.72   \n",
      "2023-11-28        37242.70        37242.70        38377.00        38377.00   \n",
      "2023-11-27        37447.42        37447.42        37569.23        37569.23   \n",
      "2023-11-26        37780.67        37780.67        37814.63        37814.63   \n",
      "2023-11-25        37713.57        37713.57        37888.00        37888.00   \n",
      "...                    ...             ...             ...             ...   \n",
      "2021-03-09        52375.18        52375.18        54895.00        54895.00   \n",
      "2021-03-08        50959.11        50959.11        52402.78        52402.78   \n",
      "2021-03-07        48882.20        48882.20        51450.03        51450.03   \n",
      "2021-03-06        48746.81        48746.81        49200.00        49200.00   \n",
      "2021-03-05        48374.09        48374.09        49448.93        49448.93   \n",
      "\n",
      "            3a. low (USD)  3b. low (USD)  4a. close (USD)  4b. close (USD)  \\\n",
      "date                                                                         \n",
      "2023-11-29       37677.96       37677.96         37986.18         37986.18   \n",
      "2023-11-28       36868.41       36868.41         37818.87         37818.87   \n",
      "2023-11-27       36707.00       36707.00         37242.70         37242.70   \n",
      "2023-11-26       37150.00       37150.00         37447.43         37447.43   \n",
      "2023-11-25       37591.10       37591.10         37780.67         37780.67   \n",
      "...                   ...            ...              ...              ...   \n",
      "2021-03-09       51789.41       51789.41         54884.50         54884.50   \n",
      "2021-03-08       49274.67       49274.67         52375.17         52375.17   \n",
      "2021-03-07       48882.20       48882.20         50971.75         50971.75   \n",
      "2021-03-06       47070.00       47070.00         48882.20         48882.20   \n",
      "2021-03-05       46300.00       46300.00         48751.71         48751.71   \n",
      "\n",
      "               5. volume  6. market cap (USD)  \n",
      "date                                           \n",
      "2023-11-29   2314.344100          2314.344100  \n",
      "2023-11-28  37544.466670         37544.466670  \n",
      "2023-11-27  30001.073760         30001.073760  \n",
      "2023-11-26  21264.537230         21264.537230  \n",
      "2023-11-25  11396.144640         11396.144640  \n",
      "...                  ...                  ...  \n",
      "2021-03-09  71656.737076         71656.737076  \n",
      "2021-03-08  66987.359664         66987.359664  \n",
      "2021-03-07  55235.028032         55235.028032  \n",
      "2021-03-06  44399.234242         44399.234242  \n",
      "2021-03-05  78192.496372         78192.496372  \n",
      "\n",
      "[1000 rows x 10 columns]\n"
     ]
    }
   ],
   "source": [
    "from alpha_vantage.cryptocurrencies import CryptoCurrencies\n",
    "import pandas as pd\n",
    "\n",
    "\n",
    "# Initialize CryptoCurrencies with your API key\n",
    "cc = CryptoCurrencies(key=api_key, output_format='pandas')\n",
    "\n",
    "# Get daily cryptocurrency data (Bitcoin priced in USD)\n",
    "data, meta_data = cc.get_digital_currency_daily(symbol='BTC', market='USD')\n",
    "print(data)\n"
   ]
  },
  {
   "cell_type": "code",
   "execution_count": 12,
   "metadata": {},
   "outputs": [
    {
     "data": {
      "text/html": [
       "<div>\n",
       "<style scoped>\n",
       "    .dataframe tbody tr th:only-of-type {\n",
       "        vertical-align: middle;\n",
       "    }\n",
       "\n",
       "    .dataframe tbody tr th {\n",
       "        vertical-align: top;\n",
       "    }\n",
       "\n",
       "    .dataframe thead th {\n",
       "        text-align: right;\n",
       "    }\n",
       "</style>\n",
       "<table border=\"1\" class=\"dataframe\">\n",
       "  <thead>\n",
       "    <tr style=\"text-align: right;\">\n",
       "      <th></th>\n",
       "      <th>0</th>\n",
       "    </tr>\n",
       "  </thead>\n",
       "  <tbody>\n",
       "    <tr>\n",
       "      <th>index</th>\n",
       "      <td>SMA</td>\n",
       "    </tr>\n",
       "    <tr>\n",
       "      <th>2023-11-28</th>\n",
       "      <td>178.4431</td>\n",
       "    </tr>\n",
       "    <tr>\n",
       "      <th>2023-11-27</th>\n",
       "      <td>178.4234</td>\n",
       "    </tr>\n",
       "    <tr>\n",
       "      <th>2023-11-24</th>\n",
       "      <td>178.3874</td>\n",
       "    </tr>\n",
       "    <tr>\n",
       "      <th>2023-11-22</th>\n",
       "      <td>178.3447</td>\n",
       "    </tr>\n",
       "    <tr>\n",
       "      <th>...</th>\n",
       "      <td>...</td>\n",
       "    </tr>\n",
       "    <tr>\n",
       "      <th>2000-02-01</th>\n",
       "      <td>0.7580</td>\n",
       "    </tr>\n",
       "    <tr>\n",
       "      <th>2000-01-31</th>\n",
       "      <td>0.7559</td>\n",
       "    </tr>\n",
       "    <tr>\n",
       "      <th>2000-01-28</th>\n",
       "      <td>0.7531</td>\n",
       "    </tr>\n",
       "    <tr>\n",
       "      <th>2000-01-27</th>\n",
       "      <td>0.7504</td>\n",
       "    </tr>\n",
       "    <tr>\n",
       "      <th>2000-01-26</th>\n",
       "      <td>0.7463</td>\n",
       "    </tr>\n",
       "  </tbody>\n",
       "</table>\n",
       "<p>6000 rows × 1 columns</p>\n",
       "</div>"
      ],
      "text/plain": [
       "                   0\n",
       "index            SMA\n",
       "2023-11-28  178.4431\n",
       "2023-11-27  178.4234\n",
       "2023-11-24  178.3874\n",
       "2023-11-22  178.3447\n",
       "...              ...\n",
       "2000-02-01    0.7580\n",
       "2000-01-31    0.7559\n",
       "2000-01-28    0.7531\n",
       "2000-01-27    0.7504\n",
       "2000-01-26    0.7463\n",
       "\n",
       "[6000 rows x 1 columns]"
      ]
     },
     "execution_count": 12,
     "metadata": {},
     "output_type": "execute_result"
    }
   ],
   "source": [
    "from alpha_vantage.techindicators import TechIndicators\n",
    "\n",
    "# Initialize TechIndicators with your API key\n",
    "ti = TechIndicators(key=api_key)\n",
    "\n",
    "# Get Simple Moving Average (SMA) data for Apple (AAPL)\n",
    "data, _ = ti.get_sma(symbol='AAPL', interval='daily', time_period=60, series_type='close')\n",
    "\n",
    "# Convert the data into a DataFrame\n",
    "df = pd.DataFrame(data)\n",
    "\n",
    "# Optionally, reset the index to make the date a column\n",
    "df = df.reset_index().transpose()\n",
    "\n",
    "# Print the DataFrame\n",
    "df\n"
   ]
  },
  {
   "cell_type": "markdown",
   "metadata": {},
   "source": [
    "The above code display the Simple Moving Average (SMA) data for Apple (AAPL) in a nicely formatted DataFrame. \n",
    "\n",
    "Do you know what SMA stand for? \n",
    "\n",
    "A simple moving average is nothing but calculating averages in a sequential manner, you can look at this [demo](https://www.youtube.com/watch?v=Qu-EpmEkS9Q) to make sense to you"
   ]
  },
  {
   "cell_type": "markdown",
   "metadata": {},
   "source": []
  }
 ],
 "metadata": {
  "kernelspec": {
   "display_name": "base",
   "language": "python",
   "name": "python3"
  },
  "language_info": {
   "codemirror_mode": {
    "name": "ipython",
    "version": 3
   },
   "file_extension": ".py",
   "mimetype": "text/x-python",
   "name": "python",
   "nbconvert_exporter": "python",
   "pygments_lexer": "ipython3",
   "version": "3.10.6"
  }
 },
 "nbformat": 4,
 "nbformat_minor": 2
}
