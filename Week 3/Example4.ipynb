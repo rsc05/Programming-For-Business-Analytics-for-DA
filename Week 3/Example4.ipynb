{
 "cells": [
  {
   "cell_type": "code",
   "execution_count": 1,
   "metadata": {},
   "outputs": [
    {
     "name": "stdout",
     "output_type": "stream",
     "text": [
      "Collecting wrds\n",
      "  Downloading wrds-3.1.6-py3-none-any.whl (12 kB)\n",
      "Requirement already satisfied: numpy in /opt/homebrew/Caskroom/miniforge/base/lib/python3.10/site-packages (from wrds) (1.23.4)\n",
      "Requirement already satisfied: pandas in /opt/homebrew/Caskroom/miniforge/base/lib/python3.10/site-packages (from wrds) (1.5.2)\n",
      "Collecting psycopg2-binary (from wrds)\n",
      "  Downloading psycopg2_binary-2.9.9-cp310-cp310-macosx_11_0_arm64.whl.metadata (4.4 kB)\n",
      "Requirement already satisfied: scipy in /opt/homebrew/Caskroom/miniforge/base/lib/python3.10/site-packages (from wrds) (1.10.0)\n",
      "Collecting sqlalchemy<2 (from wrds)\n",
      "  Downloading SQLAlchemy-1.4.50.tar.gz (8.5 MB)\n",
      "\u001b[2K     \u001b[90m━━━━━━━━━━━━━━━━━━━━━━━━━━━━━━━━━━━━━━━━\u001b[0m \u001b[32m8.5/8.5 MB\u001b[0m \u001b[31m45.1 MB/s\u001b[0m eta \u001b[36m0:00:00\u001b[0m00:01\u001b[0m00:01\u001b[0m\n",
      "\u001b[?25h  Preparing metadata (setup.py) ... \u001b[?25ldone\n",
      "\u001b[?25hRequirement already satisfied: python-dateutil>=2.8.1 in /opt/homebrew/Caskroom/miniforge/base/lib/python3.10/site-packages (from pandas->wrds) (2.8.2)\n",
      "Requirement already satisfied: pytz>=2020.1 in /opt/homebrew/Caskroom/miniforge/base/lib/python3.10/site-packages (from pandas->wrds) (2022.7)\n",
      "Requirement already satisfied: six>=1.5 in /opt/homebrew/Caskroom/miniforge/base/lib/python3.10/site-packages (from python-dateutil>=2.8.1->pandas->wrds) (1.16.0)\n",
      "Downloading psycopg2_binary-2.9.9-cp310-cp310-macosx_11_0_arm64.whl (2.6 MB)\n",
      "\u001b[2K   \u001b[90m━━━━━━━━━━━━━━━━━━━━━━━━━━━━━━━━━━━━━━━━\u001b[0m \u001b[32m2.6/2.6 MB\u001b[0m \u001b[31m48.5 MB/s\u001b[0m eta \u001b[36m0:00:00\u001b[0m00:01\u001b[0m\n",
      "\u001b[?25hBuilding wheels for collected packages: sqlalchemy\n",
      "  Building wheel for sqlalchemy (setup.py) ... \u001b[?25ldone\n",
      "\u001b[?25h  Created wheel for sqlalchemy: filename=SQLAlchemy-1.4.50-cp310-cp310-macosx_11_0_arm64.whl size=1563547 sha256=af8bb8c07de3c669109565d1e0685219edb43df2e69fe2d78e02d02522830fcc\n",
      "  Stored in directory: /Users/ramichehab/Library/Caches/pip/wheels/05/1d/2e/f68a305adcda3ccac5118eb14c259c5298b6f2488546a3d082\n",
      "Successfully built sqlalchemy\n",
      "Installing collected packages: sqlalchemy, psycopg2-binary, wrds\n",
      "  Attempting uninstall: sqlalchemy\n",
      "    Found existing installation: SQLAlchemy 2.0.20\n",
      "    Uninstalling SQLAlchemy-2.0.20:\n",
      "      Successfully uninstalled SQLAlchemy-2.0.20\n",
      "Successfully installed psycopg2-binary-2.9.9 sqlalchemy-1.4.50 wrds-3.1.6\n"
     ]
    }
   ],
   "source": [
    "!pip install wrds"
   ]
  },
  {
   "cell_type": "code",
   "execution_count": 2,
   "metadata": {},
   "outputs": [],
   "source": [
    "# Import WRDS Module: Start by importing the WRDS module in your Python script.\n",
    "import wrds\n"
   ]
  },
  {
   "cell_type": "code",
   "execution_count": null,
   "metadata": {},
   "outputs": [],
   "source": [
    "# Connect to WRDS: Establish a connection using your WRDS account credentials.\n",
    "db = wrds.Connection(wrds_username='your_username')\n"
   ]
  },
  {
   "cell_type": "code",
   "execution_count": null,
   "metadata": {},
   "outputs": [],
   "source": [
    "# Identify Available Datasets: You can explore available banking datasets. WRDS includes datasets like the Federal Reserve Bank Reports, Bank Holding Companies data, etc.\n",
    "db.list_libraries()\n",
    "db.list_tables(library='library_name')\n"
   ]
  },
  {
   "cell_type": "code",
   "execution_count": null,
   "metadata": {},
   "outputs": [],
   "source": [
    "# Querying Data: Use SQL queries to fetch data from a specific dataset. For instance, to get data from the Federal Reserve Bank dataset:\n",
    "data = db.raw_sql('SELECT * FROM library_name.table_name LIMIT 10')\n"
   ]
  },
  {
   "cell_type": "markdown",
   "metadata": {},
   "source": [
    "## Step 4: Data Analysis for Risk Management\n",
    "* Data Manipulation: Use pandas to manipulate and prepare your data for analysis. This could involve cleaning, filtering, and restructuring the data.\n",
    "* Risk Analysis: Perform risk analysis depending on your specific requirements. This might involve calculating financial ratios, assessing loan defaults, credit risk analysis, etc.\n",
    "* Statistical and Econometric Analysis: Utilize Python’s statistical libraries like scipy or statsmodels for more advanced risk analysis.\n",
    "## Step 5: Visualization and Reporting\n",
    "Data Visualization: Utilize libraries like matplotlib or seaborn for visualizing your analysis. This is particularly helpful in understanding trends and patterns in risk metrics."
   ]
  },
  {
   "cell_type": "code",
   "execution_count": null,
   "metadata": {},
   "outputs": [],
   "source": [
    "import matplotlib.pyplot as plt\n",
    "data.plot(kind='bar')\n",
    "plt.show()\n"
   ]
  },
  {
   "cell_type": "markdown",
   "metadata": {},
   "source": [
    "* Reporting: Compile your findings and insights into reports. You can use Python to create comprehensive reports or export data to formats like CSV or Excel for further use.\n",
    "\n",
    "## Step 6: Closing the Connection\n",
    "\n",
    "* Always ensure to close the WRDS database connection once your analysis is complete.\n"
   ]
  },
  {
   "cell_type": "markdown",
   "metadata": {},
   "source": [
    "db.close()\n"
   ]
  }
 ],
 "metadata": {
  "kernelspec": {
   "display_name": "base",
   "language": "python",
   "name": "python3"
  },
  "language_info": {
   "codemirror_mode": {
    "name": "ipython",
    "version": 3
   },
   "file_extension": ".py",
   "mimetype": "text/x-python",
   "name": "python",
   "nbconvert_exporter": "python",
   "pygments_lexer": "ipython3",
   "version": "3.10.6"
  }
 },
 "nbformat": 4,
 "nbformat_minor": 2
}
