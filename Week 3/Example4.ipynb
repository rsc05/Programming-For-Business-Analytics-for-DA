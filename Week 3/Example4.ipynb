{
 "cells": [
  {
   "cell_type": "markdown",
   "metadata": {},
   "source": [
    "## How to Create an Account on WRDS\n",
    "\n",
    "These steps should guide you through the process of creating and setting up your WRDS account effectively.\n",
    "\n",
    "1. **Visit the WRDS Website:** Go to the WRDS registration page at [WRDS Registration](https://wrds-www.wharton.upenn.edu/register/) and use your university email to create an account.\n",
    "\n",
    "2. **Fill Out Registration Form:** Complete the registration form with the required information.\n",
    "\n",
    "3. **Email Confirmation:** After registration, check your university email for a message from WRDS. Click the link provided in the email to confirm your email address.\n",
    "\n",
    "4. **Wait for Approval:** If you're associated with the University of Exeter, please note that your account may require approval from a university department staff member. Be prepared to wait for up to 5 working days for this approval. As a staff member, I waited for 5 working days as well, so consider this as the expected waiting period.\n",
    "\n",
    "5. **Contact for Delays:** If the approval process takes longer than expected, send an email to Dr. Yao Chen (Y.Chen5@exeter.ac.uk) and cc myself on the email to inquire about the status.\n",
    "\n",
    "6. **Account Approval Email:** Once your account is approved (after 5 working days!), you will receive an email stating: \"Your WRDS faculty account (rc813) has just been created. You can now log in and begin accessing the data as University of Exeter is subscribed.\"\n",
    "\n",
    "7. **Login:** Visit \"https://wrds-www.wharton.upenn.edu/\" and log in using your newly created account.\n",
    "\n",
    "8. **Set Up Credentials:** After logging in, you'll need to set up your credentials. This typically involves enabling two-factor authentication (2FA). You'll be asked to download Duo Security. It's recommended to use the Duo App for 2FA.\n",
    "\n",
    "9. **Duo App Setup:** Upon using the Duo App for the first time, you will need to log in to \"https://wrds-www.wharton.upenn.edu/\" once more and accept the terms and conditions of the database.\n",
    "\n",
    "10. **Start Using WRDS:** After accepting the terms and conditions, you're ready to start using WRDS to access and retrieve data. You can refer to the startup manual on how to use Jupyter Notebook to fetch data at [WRDS Jupyter Notebook Guide](https://wrds-www.wharton.upenn.edu/pages/support/programming-wrds/programming-python/jupyterhub-wrds/)."
   ]
  },
  {
   "cell_type": "code",
   "execution_count": null,
   "metadata": {},
   "outputs": [],
   "source": [
    "!pip install wrds"
   ]
  },
  {
   "cell_type": "code",
   "execution_count": null,
   "metadata": {},
   "outputs": [],
   "source": [
    "# Import WRDS Module: Start by importing the WRDS module in your Python script.\n",
    "import wrds\n",
    "import pandas as pd"
   ]
  },
  {
   "cell_type": "code",
   "execution_count": null,
   "metadata": {},
   "outputs": [],
   "source": [
    "# Connect to WRDS: Establish a connection using your WRDS account credentials.\n",
    "db = wrds.Connection(wrds_username='your_user_name')"
   ]
  },
  {
   "cell_type": "markdown",
   "metadata": {},
   "source": [
    "**The Wharton Research Data Services** (WRDS) platform offers access to a variety of financial, economic, and marketing data. When you use the WRDS Python module, you can connect to their database and access different datasets. \n",
    "\n",
    "All of these datasets, known as \"libraries\" in the WRDS context. Each library contains specific types of data. \n",
    "\n",
    "Identify Available Datasets: You can explore available banking datasets. WRDS includes datasets like the Federal Reserve Bank Reports, Bank Holding Companies data, etc.\n",
    "* db.list_libraries()"
   ]
  },
  {
   "cell_type": "code",
   "execution_count": null,
   "metadata": {},
   "outputs": [],
   "source": [
    "# list of all the datasets that you can access from WRDS\n",
    "list_of_datasets=db.list_libraries()\n",
    "list_of_datasets[-5:]"
   ]
  },
  {
   "cell_type": "markdown",
   "metadata": {},
   "source": [
    "Each of these datasets serves a specific purpose in financial and economic research, offering insights into market behavior, corporate actions, investment analysis, and regulatory activities. The actual content of these datasets can be confirmed by accessing them via the WRDS platform and exploring the tables and variables they contain.\n",
    "\n",
    "You can also go their webpages, particularly the [research option page](https://wrds-www.wharton.upenn.edu/pages/wrds-research/), watch their videos and try to explore more things about these libraries. \n",
    "\n",
    "If you want stock data it is known that databases such as CRSP (Center for Research in Security Prices) or Compustat provides stock price information. "
   ]
  },
  {
   "cell_type": "code",
   "execution_count": null,
   "metadata": {},
   "outputs": [],
   "source": [
    "datasets_with_c = [i for i in list_of_datasets if \"crs\" in i]\n",
    "datasets_with_c"
   ]
  },
  {
   "cell_type": "code",
   "execution_count": null,
   "metadata": {},
   "outputs": [],
   "source": [
    "# List all tables in the CRSP library, what do these tables mean? \n",
    "tables = db.list_tables(library='crsp')\n",
    "tables\n"
   ]
  },
  {
   "cell_type": "code",
   "execution_count": null,
   "metadata": {},
   "outputs": [],
   "source": [
    "# Let us try to understand what the table dsf in crsp holds\n",
    "columns = db.describe_table('crsp', 'dsf')\n",
    "columns\n",
    "\n",
    "# This is refered to schema information of dsf table, i.e. vol stand for volume, these are important to write the SQL code."
   ]
  },
  {
   "cell_type": "markdown",
   "metadata": {},
   "source": [
    "# Accessing Stock Data for Moderna, Pfizer, and Johnson & Johnson in WRDS\n",
    "\n",
    "When working with the WRDS database, particularly with the CRSP (Center for Research in Security Prices) data, it's important to understand that stock identifiers like ticker symbols are not directly used in all tables. Instead, CRSP uses a unique identifier known as `permno` (permanent number). To access stock data for companies like Moderna, Pfizer, and Johnson & Johnson, you need to find their respective `permno` values first.\n",
    "\n",
    "## Step 1: Find `permno` for Each Company\n",
    "\n",
    "To find the `permno` for a specific company, you have to refer to a table within the CRSP database that maps ticker symbols to `permno`. A common table used for this purpose is `crsp.stocknames`.\n",
    "\n",
    "### How to Check Which Table Contains What?\n",
    "To determine which table contains the information you need (in this case, the mapping of ticker symbols to `permno`), you can follow these steps:\n",
    "\n",
    "1. **List Available Tables in a Library**: \n",
    "   Use the `list_tables` function to see all tables in a specific library, like CRSP.\n",
    "   ```python\n",
    "   tables = db.list_tables(library='CRSP')\n",
    "   print(tables)\n"
   ]
  },
  {
   "cell_type": "code",
   "execution_count": null,
   "metadata": {},
   "outputs": [],
   "source": [
    "# After confirming the table structure of stocknames in crsp, write a SQL query to retrieve permno values for your companies of interest.\n",
    "permno_query = \"\"\"\n",
    "SELECT permno, ticker\n",
    "FROM crsp.stocknames\n",
    "WHERE ticker IN ('MRNA', 'PFE', 'JNJ')\n",
    "\"\"\"\n",
    "permnos = db.raw_sql(permno_query)\n",
    "permnos\n"
   ]
  },
  {
   "cell_type": "markdown",
   "metadata": {},
   "source": [
    "# Important Considerations for Accessing CRSP Data in WRDS\n",
    "\n",
    "When working with the CRSP (Center for Research in Security Prices) database in WRDS, there are several key points to keep in mind, particularly when dealing with `permno` values and understanding stock prices.\n",
    "\n",
    "## Understanding `permno` Values\n",
    "\n",
    "`permno` is a unique identifier used by CRSP to track securities. It is important to note the following about `permno` values:\n",
    "\n",
    "1. **Changing `permno` Over Time**: \n",
    "   - A company's `permno` might change due to various corporate actions like mergers, restructurings, or stock splits. Therefore, the `permno` associated with a company can vary over different time periods.\n",
    "   - When researching historical data, ensure you are using the correct `permno` for the specific time period you are interested in. This might involve checking for any corporate actions that could have led to a change in `permno`.\n",
    "\n",
    "2. **Multiple `permno` Values for a Company**: \n",
    "   - It's not uncommon for a single company to have multiple `permno` values over time or due to different share classes.\n",
    "   - For instance, Moderna (MRNA) has `permno` values of 18312.0 and 80004.0, reflecting either different time periods or share classes.\n",
    "\n",
    "## Stock Prices in the `crsp.dsf` Table\n",
    "\n",
    "The `crsp.dsf` table contains daily stock price data, and understanding how these prices are represented is crucial:\n",
    "\n",
    "1. **Price Column (`prc`)**: \n",
    "   - The `prc` column typically represents the stock's price. However, this can be either the closing price, the average of the bid and ask prices, or another measure, depending on CRSP's methodology.\n",
    "   - Verify whether the prices are adjusted or unadjusted. Adjusted prices account for corporate actions like splits and dividends, providing a more accurate reflection of a stock's historical performance.\n",
    "\n",
    "2. **Adjustments for Splits and Dividends**: \n",
    "   - If working with adjusted prices, understand how these adjustments are made to accurately interpret price movements over time.\n",
    "\n",
    "---\n",
    "\n",
    "Given these considerations, when compiling a list of `permno` values for specific companies, you should include each unique `permno` associated with the tickers of interest:\n",
    "\n",
    "- **Moderna (MRNA)**: `permno` values are 18312.0 and 80004.0.\n",
    "- **Pfizer (PFE)**: `permno` value is 21936.0.\n",
    "- **Johnson & Johnson (JNJ)**: `permno` value is 22111.0.\n",
    "\n",
    "By accounting for these important notes, you can ensure more accurate and relevant data retrieval from the CRSP database for your financial analyses.\n",
    "\n",
    "---\n",
    "\n",
    "**Note for Students**: \n",
    "* Understanding the structure of the database and the relationships between different tables is crucial for effective data retrieval in financial databases like WRDS. Always start by exploring the schema and available data in each table to ensure you are querying the right information.\n",
    "* In financial data analysis, paying attention to the nuances of data representation and changes over time is critical. Always consider the context and specifics of the data you are working with, especially in dynamic databases like CRSP.\n"
   ]
  },
  {
   "cell_type": "code",
   "execution_count": null,
   "metadata": {},
   "outputs": [],
   "source": [
    "stock_price_query = \"\"\"\n",
    "SELECT date, permno, prc\n",
    "FROM crsp.dsf\n",
    "WHERE permno IN (18312.0, 80004.0, 21936.0, 22111.0)\n",
    "AND date BETWEEN '2018-06-01' AND '2023-06-30'\n",
    "\"\"\"\n",
    "stock_prices = db.raw_sql(stock_price_query)\n",
    "stock_prices\n"
   ]
  },
  {
   "cell_type": "code",
   "execution_count": null,
   "metadata": {},
   "outputs": [],
   "source": [
    "# To include the volume and time of each stock price in your query, you need to adjust the SQL query to select the relevant columns from the crsp.dsf table. \n",
    "stock_price_query = \"\"\"\n",
    "SELECT date, permno, prc, vol\n",
    "FROM crsp.dsf\n",
    "WHERE permno IN (18312.0, 80004.0, 21936.0, 22111.0)\n",
    "AND date BETWEEN '2018-06-01' AND '2023-06-30'\n",
    "\"\"\"\n",
    "stock_prices = db.raw_sql(stock_price_query)\n",
    "stock_prices\n"
   ]
  },
  {
   "cell_type": "markdown",
   "metadata": {},
   "source": [
    "## Step 4: Data Analysis for Risk Management\n",
    "* Data Manipulation: Use pandas to manipulate and prepare your data for analysis. This could involve cleaning, filtering, and restructuring the data.\n",
    "* Risk Analysis: Perform risk analysis depending on your specific requirements. This might involve calculating financial ratios, assessing loan defaults, credit risk analysis, etc.\n",
    "* Statistical and Econometric Analysis: Utilize Python’s statistical libraries like scipy or statsmodels for more advanced risk analysis.\n",
    "* NB: See Fama-French example on their webpages: [Fama-French Factors (Python - CIZ Format)](https://wrds-www.wharton.upenn.edu/pages/wrds-research/applications/python-replications/fama-french-factors-python-ciz-format/)\n"
   ]
  },
  {
   "cell_type": "code",
   "execution_count": null,
   "metadata": {},
   "outputs": [],
   "source": [
    "# Sort the DataFrame\n",
    "stock_prices1 = stock_prices.sort_values(by=['permno', 'date'])\n",
    "stock_prices1"
   ]
  },
  {
   "cell_type": "code",
   "execution_count": null,
   "metadata": {},
   "outputs": [],
   "source": [
    "# Format Date and Numeric Columns\n",
    "stock_prices1['date'] = pd.to_datetime(stock_prices1['date']).dt.date\n",
    "stock_prices1['prc'] = stock_prices1['prc'].round(2)\n",
    "stock_prices1['vol'] = stock_prices1['vol'].round(0)\n",
    "stock_prices1\n"
   ]
  },
  {
   "cell_type": "code",
   "execution_count": null,
   "metadata": {},
   "outputs": [],
   "source": [
    "# Add Calculated Columns (if needed)\n",
    "# Example: Calculating daily returns\n",
    "stock_prices1['daily_return'] = stock_prices1.groupby('permno')['prc'].pct_change().round(4)\n",
    "stock_prices1\n"
   ]
  },
  {
   "cell_type": "code",
   "execution_count": null,
   "metadata": {},
   "outputs": [],
   "source": [
    "# Map permno to Stock Names\n",
    "# Map of permno to stock names\n",
    "permno_to_name = {\n",
    "    18312.0: 'Moderna',\n",
    "    80004.0: 'Moderna',\n",
    "    21936.0: 'Pfizer',\n",
    "    22111.0: 'Johnson & Johnson'\n",
    "}\n",
    "\n",
    "# Add a column for stock names\n",
    "stock_prices1['stock_name'] = stock_prices1['permno'].map(permno_to_name)\n",
    "stock_prices1.head()\n"
   ]
  },
  {
   "cell_type": "code",
   "execution_count": null,
   "metadata": {},
   "outputs": [],
   "source": [
    "# Pivot the DataFrame\n",
    "# Pivot the DataFrame\n",
    "stock_prices_pivoted = stock_prices1.pivot_table(index='date', \n",
    "                                                columns='stock_name', \n",
    "                                                values=['daily_return', 'vol'])\n",
    "stock_prices_pivoted.tail()"
   ]
  },
  {
   "cell_type": "code",
   "execution_count": null,
   "metadata": {},
   "outputs": [],
   "source": [
    "# Rename Columns\n",
    "stock_prices_pivoted.columns = ['_'.join(col).strip() for col in stock_prices_pivoted.columns.values]\n",
    "stock_prices_pivoted.tail()"
   ]
  },
  {
   "cell_type": "code",
   "execution_count": null,
   "metadata": {},
   "outputs": [],
   "source": [
    "# Reset Index and Display\n",
    "stock_prices_pivoted = stock_prices_pivoted.reset_index()\n",
    "\n",
    "# Display the DataFrame\n",
    "stock_prices_pivoted.tail(10)\n"
   ]
  },
  {
   "cell_type": "markdown",
   "metadata": {},
   "source": [
    "## Step 5: Visualization and Reporting\n",
    "Data Visualization: Utilize libraries like matplotlib or seaborn for visualizing your analysis. This is particularly helpful in understanding trends and patterns in risk metrics."
   ]
  },
  {
   "cell_type": "code",
   "execution_count": null,
   "metadata": {},
   "outputs": [],
   "source": [
    "# First, import the necessary Python libraries for plotting.\n",
    "import matplotlib.pyplot as plt\n",
    "import pandas as pd\n",
    "import seaborn as sns\n",
    "\n",
    "sns.set()  # Optional for nicer plot styles\n"
   ]
  },
  {
   "cell_type": "code",
   "execution_count": null,
   "metadata": {},
   "outputs": [],
   "source": [
    "# Prepare the DataFrame\n",
    "stock_prices_pivoted['date'] = pd.to_datetime(stock_prices_pivoted['date'])\n",
    "stock_prices_pivoted.set_index('date', inplace=True)\n",
    "stock_prices_pivoted.head()"
   ]
  },
  {
   "cell_type": "code",
   "execution_count": null,
   "metadata": {},
   "outputs": [],
   "source": [
    "# Plotting Daily Returns\n",
    "plt.figure(figsize=(12, 6))\n",
    "plt.plot(stock_prices_pivoted.index, stock_prices_pivoted['daily_return_Johnson & Johnson'], label='Johnson & Johnson')\n",
    "plt.plot(stock_prices_pivoted.index, stock_prices_pivoted['daily_return_Moderna'], label='Moderna')\n",
    "plt.plot(stock_prices_pivoted.index, stock_prices_pivoted['daily_return_Pfizer'], label='Pfizer')\n",
    "plt.title('Daily Stock Returns')\n",
    "plt.xlabel('Date')\n",
    "plt.ylabel('Daily Return')\n",
    "plt.legend()\n",
    "plt.xticks(rotation=45)\n",
    "plt.show()\n",
    "\n"
   ]
  },
  {
   "cell_type": "code",
   "execution_count": null,
   "metadata": {},
   "outputs": [],
   "source": [
    "# Plotting Volumes\n",
    "plt.figure(figsize=(12, 6))\n",
    "plt.plot(stock_prices_pivoted.index, stock_prices_pivoted['vol_Johnson & Johnson'], label='Johnson & Johnson')\n",
    "plt.plot(stock_prices_pivoted.index, stock_prices_pivoted['vol_Moderna'], label='Moderna')\n",
    "plt.plot(stock_prices_pivoted.index, stock_prices_pivoted['vol_Pfizer'], label='Pfizer')\n",
    "plt.title('Trading Volume Over Time')\n",
    "plt.xlabel('Date')\n",
    "plt.ylabel('Volume')\n",
    "plt.legend()\n",
    "plt.xticks(rotation=45)\n",
    "plt.show()\n"
   ]
  },
  {
   "cell_type": "markdown",
   "metadata": {},
   "source": [
    "NB: Feel free to customize the plots further with different colors, styles, or additional annotations to enhance readability and insights."
   ]
  },
  {
   "cell_type": "markdown",
   "metadata": {},
   "source": [
    "## Step 6: Closing the Connection\n",
    "\n",
    "* Always ensure to close the WRDS database connection once your analysis is complete.\n"
   ]
  },
  {
   "cell_type": "markdown",
   "metadata": {},
   "source": [
    "Have a look into the webpage for [Fama-French modelling](https://wrds-www.wharton.upenn.edu/pages/wrds-research/applications/python-replications/fama-french-factors-python/) "
   ]
  },
  {
   "cell_type": "code",
   "execution_count": null,
   "metadata": {},
   "outputs": [],
   "source": [
    "db.close()"
   ]
  },
  {
   "cell_type": "markdown",
   "metadata": {},
   "source": []
  }
 ],
 "metadata": {
  "kernelspec": {
   "display_name": "base",
   "language": "python",
   "name": "python3"
  },
  "language_info": {
   "codemirror_mode": {
    "name": "ipython",
    "version": 3
   },
   "file_extension": ".py",
   "mimetype": "text/x-python",
   "name": "python",
   "nbconvert_exporter": "python",
   "pygments_lexer": "ipython3",
   "version": "3.10.6"
  }
 },
 "nbformat": 4,
 "nbformat_minor": 2
}
