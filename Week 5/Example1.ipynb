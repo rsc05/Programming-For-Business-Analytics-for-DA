{
 "cells": [
  {
   "cell_type": "markdown",
   "metadata": {},
   "source": [
    "# Basic visualization of time series data"
   ]
  },
  {
   "cell_type": "code",
   "execution_count": null,
   "metadata": {},
   "outputs": [],
   "source": [
    "pip install python-dotenv"
   ]
  },
  {
   "cell_type": "code",
   "execution_count": null,
   "metadata": {},
   "outputs": [],
   "source": [
    "pip install plotly\n",
    "!pip install nbformat --upgrade"
   ]
  },
  {
   "cell_type": "code",
   "execution_count": null,
   "metadata": {},
   "outputs": [],
   "source": [
    "from dotenv import load_dotenv\n",
    "load_dotenv()  # This loads the variables from .env\n",
    "# Import WRDS Module: Start by importing the WRDS module in your Python script.\n",
    "import wrds\n",
    "import pandas as pd\n",
    "import os\n",
    "import numpy as np\n",
    "import yfinance as yf"
   ]
  },
  {
   "cell_type": "code",
   "execution_count": null,
   "metadata": {},
   "outputs": [],
   "source": [
    "# Get your apis or usernames\n",
    "wrds_username = os.getenv('wrds_username')"
   ]
  },
  {
   "cell_type": "code",
   "execution_count": null,
   "metadata": {},
   "outputs": [],
   "source": [
    "# Connect to database \n",
    "db = wrds.Connection(wrds_username=wrds_username)"
   ]
  },
  {
   "cell_type": "code",
   "execution_count": null,
   "metadata": {},
   "outputs": [],
   "source": [
    "def get_stock_data(db, ticker, start_date, end_date):\n",
    "    \"\"\"\n",
    "    Fetches adjusted stock data for a given ticker and date range from WRDS CRSP database.\n",
    "\n",
    "    Parameters:\n",
    "    ticker (str): The stock ticker symbol.\n",
    "    start_date (str): The start date for the data in 'YYYY-MM-DD' format.\n",
    "    end_date (str): The end date for the data in 'YYYY-MM-DD' format.\n",
    "\n",
    "    Returns:\n",
    "    pandas.DataFrame: A DataFrame containing the adjusted stock data.\n",
    "    \"\"\"\n",
    "\n",
    "    # Map ticker to PERMNO\n",
    "    permno_query = f\"\"\"\n",
    "    SELECT permno\n",
    "    FROM crsp.stocknames\n",
    "    WHERE ticker = '{ticker}'\n",
    "    \"\"\"\n",
    "    permno_result = db.raw_sql(permno_query)\n",
    "    if permno_result.empty:\n",
    "        raise ValueError(f\"No PERMNO found for ticker {ticker}\")\n",
    "\n",
    "    # Convert the Pandas Series to a list and then to a string\n",
    "    permno_list = permno_result.permno.drop_duplicates().tolist()\n",
    "    formatted_permnos = ', '.join([str(permno) for permno in permno_list])\n",
    "\n",
    "    # Query for stock data using PERMNO\n",
    "    stock_data_query = f\"\"\"\n",
    "    SELECT date, permno, prc, cfacpr\n",
    "    FROM crsp.dsf\n",
    "    WHERE permno IN ({formatted_permnos})\n",
    "    AND date BETWEEN '{start_date}' AND '{end_date}'\n",
    "    \"\"\"\n",
    "    stock_data = db.raw_sql(stock_data_query)\n",
    "    \n",
    "    # Calculate the adjusted close price\n",
    "    stock_data['adj_close'] = stock_data['prc'] / stock_data['cfacpr']  # Note on this line below\n",
    "\n",
    "    # Drop unnecessary columns\n",
    "    stock_data = stock_data.drop(columns=[\"permno\", \"prc\", \"cfacpr\"])\n",
    "\n",
    "    # Convert 'date' column to datetime\n",
    "    stock_data['date'] = pd.to_datetime(stock_data['date'])\n",
    "\n",
    "    # Set 'date' column as the index\n",
    "    stock_data.set_index('date', inplace=True)\n",
    "\n",
    "    # Rename 'adj_close' column to 'AdjClose_{ticker}'\n",
    "    stock_data.rename(columns={'adj_close': f'AdjClose_{ticker}'}, inplace=True)\n",
    "\n",
    "    return stock_data\n"
   ]
  },
  {
   "cell_type": "markdown",
   "metadata": {},
   "source": [
    "## Note on line on above code: Adjusted Stock Prices in CRSP Database\n",
    "\n",
    "In the CRSP database provided by WRDS (Wharton Research Data Services), the adjusted price is typically available, but it might not be directly named `adjprc`. The CRSP database often includes a column for daily stock prices (`prc`) and a factor to adjust these prices (`cfacpr`) for splits and dividends. The adjusted price can be calculated by dividing the price by this factor.\n",
    "\n",
    "### Key Points:\n",
    "- **Daily Stock Prices (`prc`)**: This column represents the raw closing prices of stocks on a daily basis.\n",
    "- **Adjustment Factor (`cfacpr`)**: This factor is used to adjust the raw stock prices for corporate actions like stock splits and dividends.\n",
    "- **Calculation of Adjusted Prices**: The adjusted price can be obtained by dividing the `prc` value by the `cfacpr` value. This adjusted price reflects the stock's value accounting for corporate actions.\n",
    "\n",
    "By using these columns from the CRSP database, we can accurately analyze the stock prices over time, taking into account any corporate actions that might affect the stock's value.\n"
   ]
  },
  {
   "cell_type": "code",
   "execution_count": null,
   "metadata": {},
   "outputs": [],
   "source": [
    "# Example usage\n",
    "ticker = 'MSFT'  # Replace with desired ticker\n",
    "start_date = \"2018-01-01\"  # Replace with desired start date\n",
    "end_date = \"2020-12-31\"  # Replace with desired end date\n",
    "stock_data = get_stock_data(db, ticker, start_date, end_date)\n",
    "stock_data.head()"
   ]
  },
  {
   "cell_type": "code",
   "execution_count": null,
   "metadata": {},
   "outputs": [],
   "source": [
    "# Download same data using yahoo finance \n",
    "df = yf.download(ticker,\n",
    "                 start=start_date, \n",
    "                 end=end_date,\n",
    "                 auto_adjust = False, \n",
    "                 progress=False)\n",
    "\n",
    "df.head()"
   ]
  },
  {
   "cell_type": "markdown",
   "metadata": {},
   "source": [
    "The differences in adjusted close prices obtained from the WRDS CRSP database and Yahoo Finance, accessed via `yfinance`, stem from a variety of factors:\n",
    "\n",
    "- **Data Source and Methodology**: Both WRDS CRSP and Yahoo Finance may employ distinct methodologies for calculating adjusted close prices, which are designed to account for corporate actions such as dividends, stock splits, and rights offerings. These adjustments can vary significantly between data providers.\n",
    "\n",
    "- **Dividend Reinvestment Assumption**: Some sources might assume dividend reinvestment, which can elevate the adjusted price, while others do not. This leads to discrepancies in the adjusted close prices between different sources.\n",
    "\n",
    "- **Timing of Adjustments**: The timing of these adjustments also plays a crucial role, as different sources may update their data at varying speeds in response to corporate actions, resulting in temporary discrepancies.\n",
    "\n",
    "- **Historical Data Revisions**: Financial data providers often revise historical data to enhance accuracy, leading to potential differences in historical prices across sources.\n",
    "\n",
    "- **Data Quality and Errors**: The inherent possibility of data errors or quality issues in any financial database can also contribute to these differences, underscoring the importance of considering these factors when analyzing and comparing financial data from multiple sources.\n",
    "\n",
    "--- \n",
    "# How should I choose which data source to use for my project? \n",
    "\n",
    "Deciding which data source to trust between WRDS CRSP, Yahoo Finance (via yfinance), among others depends on several factors, including the specific requirements of your analysis, the level of detail and accuracy needed, and the context in which you're using the data. \n",
    "\n",
    "The short answer to such question would be \"it depends\". if your work demands the highest standards of data accuracy and depth (such as in academic research), WRDS CRSP is generally the better choice. For more general purposes, Yahoo Finance provides a good balance of accessibility and reliability. In your project, you may need to argue your choice on database selection."
   ]
  },
  {
   "cell_type": "code",
   "execution_count": null,
   "metadata": {},
   "outputs": [],
   "source": [
    "import pandas as pd\n",
    "\n",
    "def get_compustat_data(db, ticker, start_date, end_date):\n",
    "    \"\"\"\n",
    "    Fetches adjusted stock data for a given ticker and date range from WRDS Compustat database.\n",
    "\n",
    "    Parameters:\n",
    "    ticker (str): The stock ticker symbol.\n",
    "    start_date (str): The start date for the data in 'YYYY-MM-DD' format.\n",
    "    end_date (str): The end date for the data in 'YYYY-MM-DD' format.\n",
    "\n",
    "    Returns:\n",
    "    pandas.DataFrame: A DataFrame containing the adjusted stock data.\n",
    "    \"\"\"\n",
    "\n",
    "    # Query for stock data using ticker\n",
    "    stock_data_query = f\"\"\"\n",
    "    SELECT a.datadate, a.gvkey, a.tic, a.conm, a.at, b.prccm, b.cshoq\n",
    "    FROM comp.funda a\n",
    "    INNER JOIN comp.secm b\n",
    "    ON a.gvkey = b.gvkey\n",
    "    AND a.iid = b.iid\n",
    "    AND a.datadate = b.datadate\n",
    "    WHERE a.tic = '{ticker}'\n",
    "    AND a.datadate >= '{start_date}'\n",
    "    AND a.datadate <= '{end_date}'\n",
    "    AND a.datafmt = 'STD'\n",
    "    AND a.consol = 'C'\n",
    "    AND a.indfmt = 'INDL'\n",
    "    \"\"\"\n",
    "    stock_data = db.raw_sql(stock_data_query, date_cols=['datadate'])\n",
    "\n",
    "    # Assuming 'prccm' is the monthly closing price, you might need to adjust it\n",
    "    # If there's an adjustment factor available in the dataset, use it here\n",
    "    # For example: stock_data['adj_close'] = stock_data['prccm'] / stock_data['adjustment_factor']\n",
    "\n",
    "    # Process the DataFrame as needed (e.g., set index, rename columns)\n",
    "    stock_data.set_index('datadate', inplace=True)\n",
    "    stock_data.rename(columns={'prccm': 'Close_Price'}, inplace=True)\n",
    "\n",
    "    return stock_data\n"
   ]
  },
  {
   "cell_type": "code",
   "execution_count": null,
   "metadata": {},
   "outputs": [],
   "source": [
    "df1=get_compustat_data(db, ticker, start_date, end_date)\n",
    "df1"
   ]
  },
  {
   "cell_type": "code",
   "execution_count": null,
   "metadata": {},
   "outputs": [],
   "source": [
    "# Get annual data \n",
    "stock_data_query = f\"\"\"\n",
    "SELECT a.datadate, a.gvkey, a.tic, a.conm, a.at, b.prccm, b.cshoq\n",
    "FROM comp.funda a\n",
    "INNER JOIN comp.secm b\n",
    "ON a.gvkey = b.gvkey\n",
    "AND a.iid = b.iid\n",
    "AND a.datadate = b.datadate\n",
    "WHERE a.tic = '{ticker}'\n",
    "AND a.datadate >= '{start_date}'\n",
    "AND a.datadate <= '{end_date}'\n",
    "AND a.datafmt = 'STD'\n",
    "AND a.consol = 'C'\n",
    "AND a.indfmt = 'INDL'\n",
    "\"\"\"\n",
    "stock_data_1 = db.raw_sql(stock_data_query, date_cols=['datadate'])\n",
    "stock_data_1"
   ]
  },
  {
   "cell_type": "markdown",
   "metadata": {},
   "source": [
    "The above code is good for yearly data but what about monthly? \n",
    "\n",
    "To get the monthly data you can use the [Compustat Security Monthly (SECM)](https://wrds-www.wharton.upenn.edu/pages/support/support-articles/compustat/north-america/closed-end-funds/) "
   ]
  },
  {
   "cell_type": "code",
   "execution_count": null,
   "metadata": {},
   "outputs": [],
   "source": [
    "# Extract first 5 obs from comp.secm in order to investigate it\n",
    "\n",
    "secm = db.get_table(library='comp', table='secm', obs=5)\n",
    "secm"
   ]
  },
  {
   "cell_type": "code",
   "execution_count": null,
   "metadata": {},
   "outputs": [],
   "source": [
    "# See the columns and do your own research on these columns\n",
    "secm.columns"
   ]
  },
  {
   "cell_type": "code",
   "execution_count": null,
   "metadata": {},
   "outputs": [],
   "source": [
    "# Get Monthly data \n",
    "stock_data_query = f\"\"\"\n",
    "SELECT b.datadate, b.gvkey, b.tic, b.prccm, b.cshoq\n",
    "FROM comp.secm b\n",
    "WHERE b.tic = '{ticker}'\n",
    "AND b.datadate >= '{start_date}'\n",
    "AND b.datadate <= '{end_date}'\n",
    "\"\"\"\n",
    "\n",
    "stock_data_2 = db.raw_sql(stock_data_query, date_cols=['datadate'])\n",
    "stock_data_2.head()\n",
    "\n",
    "# prccm is Index Price - Close Monthly read more about it here https://wrds-www.wharton.upenn.edu/data-dictionary/comp_global/g_idx_mth/#row-prccm"
   ]
  },
  {
   "cell_type": "code",
   "execution_count": null,
   "metadata": {},
   "outputs": [],
   "source": [
    "import seaborn as sns\n",
    "import matplotlib.pyplot as plt"
   ]
  },
  {
   "cell_type": "code",
   "execution_count": null,
   "metadata": {},
   "outputs": [],
   "source": [
    "# feel free to modify, for example, change the context to \"notebook\"\n",
    "sns.set_theme(context=\"talk\", style=\"whitegrid\", \n",
    "              palette=\"colorblind\", color_codes=True, \n",
    "              rc={\"figure.figsize\": [12, 8]})"
   ]
  },
  {
   "cell_type": "code",
   "execution_count": null,
   "metadata": {},
   "outputs": [],
   "source": [
    "stock_data.plot(title=\"MSFT stock in 2020\")\n",
    "\n",
    "sns.despine()\n",
    "plt.tight_layout()"
   ]
  },
  {
   "cell_type": "code",
   "execution_count": null,
   "metadata": {},
   "outputs": [],
   "source": [
    "stock_data.plot(title=\"MSFT stock in 2020\", backend=\"plotly\")"
   ]
  },
  {
   "cell_type": "markdown",
   "metadata": {},
   "source": [
    "---\n",
    "# Visualizing seasonal patterns"
   ]
  },
  {
   "cell_type": "markdown",
   "metadata": {},
   "source": [
    "Your book speaks about unemployment rate in the US, let us try to get unemployment rate for females in the UK from the Office of National Statistics (ONS)\n",
    "Get unemployment rate of females over 16 from office of national statistics and download it to your current working directory (CWD). You can reach it [here](https://www.ons.gov.uk/employmentandlabourmarket/peoplenotinwork/unemployment/timeseries/mgsz/lms)\n"
   ]
  },
  {
   "cell_type": "code",
   "execution_count": null,
   "metadata": {},
   "outputs": [],
   "source": [
    "import pandas as pd\n",
    "\n",
    "# Load the CSV file into a DataFrame\n",
    "data = pd.read_csv('series-051223.csv')\n",
    "\n",
    "# Display the first few rows of the DataFrame to verify\n",
    "data.head()\n"
   ]
  },
  {
   "cell_type": "markdown",
   "metadata": {},
   "source": [
    "# Metadata\n",
    "\n",
    "CSV file you downloaded contains metadata and the actual data mixed together, which is common with datasets from official sources like the Office of National Statistics. \n",
    "\n",
    "To properly load and use this data in Python, we'll need to adjust the way we read the file with pandas to skip the initial rows of metadata and start reading from where the actual data begins."
   ]
  },
  {
   "cell_type": "code",
   "execution_count": null,
   "metadata": {},
   "outputs": [],
   "source": [
    "\n",
    "\n",
    "# Adjust the number in skiprows to match where your actual data starts\n",
    "# For example, if your data starts at row 10, set skiprows=9\n",
    "data = pd.read_csv('series-051223.csv', skiprows=8, names=['Year', 'Female Unemployment Rate'])\n",
    "data.head()\n"
   ]
  },
  {
   "cell_type": "code",
   "execution_count": null,
   "metadata": {},
   "outputs": [],
   "source": [
    "data.tail()"
   ]
  },
  {
   "cell_type": "markdown",
   "metadata": {},
   "source": [
    "# Further Examination\n",
    "\n",
    "Examing the data, it seems that we have an issue were we have various category of year. Some rows have quarters and other have month so we need to do the following\n",
    "\n",
    "1. Separate the Data: Use string manipulation and conditional logic to separate the data into the three categories.\n",
    "2. Create Separate DataFrames: Based on the separation, create the three DataFrames with the appropriate columns.\n",
    "3. Plot the Data: Use pandas with Plotly backend to plot the data for the years 2014-2019."
   ]
  },
  {
   "cell_type": "code",
   "execution_count": null,
   "metadata": {},
   "outputs": [],
   "source": [
    "# Initialize empty DataFrames\n",
    "df2_year = pd.DataFrame(columns=['Year', 'Female Unemployment Rate'])\n",
    "df2_quarter = pd.DataFrame(columns=['Year', 'Quarter', 'Female Unemployment Rate'])\n",
    "df2_month = pd.DataFrame(columns=['Year', 'Month', 'Female Unemployment Rate'])"
   ]
  },
  {
   "cell_type": "code",
   "execution_count": null,
   "metadata": {},
   "outputs": [],
   "source": [
    "# Function to check if a string represents an integer (year)\n",
    "def is_integer(n):\n",
    "    try:\n",
    "        int(n)\n",
    "        return True\n",
    "    except ValueError:\n",
    "        return False\n",
    "\n",
    "# Lists to store data temporarily\n",
    "year_data = []\n",
    "quarter_data = []\n",
    "month_data = []\n",
    "\n",
    "# Iterate over the rows and separate the data\n",
    "for index, row in data.iterrows():\n",
    "    time_split = row['Year'].split()  # Replace 'Date' with the actual column name\n",
    "\n",
    "    if len(time_split) == 1 and is_integer(time_split[0]):  # Year only\n",
    "        year_data.append({'Year': int(time_split[0]), 'Female Unemployment Rate': row['Female Unemployment Rate']})\n",
    "    elif len(time_split) == 2:\n",
    "        if time_split[1].startswith('Q'):  # Year and Quarter\n",
    "            quarter_data.append({'Year': int(time_split[0]), 'Quarter': time_split[1], 'Female Unemployment Rate': row['Female Unemployment Rate']})\n",
    "        else:  # Year and Month\n",
    "            month_data.append({'Year': int(time_split[0]), 'Month': time_split[1], 'Female Unemployment Rate': row['Female Unemployment Rate']})\n",
    "\n",
    "# Convert lists to DataFrames\n",
    "df2_year = pd.concat([df2_year, pd.DataFrame(year_data)], ignore_index=True)\n",
    "df2_quarter = pd.concat([df2_quarter, pd.DataFrame(quarter_data)], ignore_index=True)\n",
    "df2_month = pd.concat([df2_month, pd.DataFrame(month_data)], ignore_index=True)\n"
   ]
  },
  {
   "cell_type": "code",
   "execution_count": null,
   "metadata": {},
   "outputs": [],
   "source": [
    "df2_year.tail()"
   ]
  },
  {
   "cell_type": "code",
   "execution_count": null,
   "metadata": {},
   "outputs": [],
   "source": [
    "df2_quarter.tail()"
   ]
  },
  {
   "cell_type": "code",
   "execution_count": null,
   "metadata": {},
   "outputs": [],
   "source": [
    "# Ensure you have Plotly installed: pip install plotly\n",
    "pd.options.plotting.backend = \"plotly\"\n",
    "\n",
    "# Filter data for years 2014-2019\n",
    "df2_year_filtered = df2_year[(df2_year['Year'] >= 2014) & (df2_year['Year'] <= 2019)]\n",
    "\n",
    "# Plotting\n",
    "fig = df2_year_filtered.plot(x='Year', y='Female Unemployment Rate', title=\"Female Unemployment rate in years 2014-2019\")\n",
    "fig.show()\n"
   ]
  },
  {
   "cell_type": "code",
   "execution_count": null,
   "metadata": {},
   "outputs": [],
   "source": [
    "\n",
    "# Filter data for years 2014-2019\n",
    "df2_quarter_filtered = df2_quarter[(df2_quarter['Year'] >= 2014) & (df2_quarter['Year'] <= 2019)]\n",
    "\n",
    "# Combine Year and Quarter for plotting\n",
    "df2_quarter_filtered['Year-Quarter'] = df2_quarter_filtered['Year'].astype(str) + ' ' + df2_quarter_filtered['Quarter']\n",
    "\n",
    "# Filter data for years 2014-2019\n",
    "df2_quarter_filtered = df2_quarter_filtered[(df2_quarter_filtered['Year'] >= 2014) & (df2_quarter_filtered['Year'] <= 2019)]\n",
    "\n",
    "# Plotting\n",
    "fig = df2_quarter_filtered.plot(x='Year-Quarter', y='Female Unemployment Rate', title=\"Female Unemployment rate (Quarterly) in years 2014-2019\")\n",
    "fig.show()"
   ]
  },
  {
   "cell_type": "markdown",
   "metadata": {},
   "source": [
    "# Plotting monthly data while only showing the year on the x-axis \n",
    "\n",
    "This can be a bit tricky, especially if you want to maintain the granularity of the monthly data in the plot. \n",
    "\n",
    "One approach is to plot all the monthly data points but format the x-axis labels to only show the year. This can be done by creating a new column that represents the year and using it for the x-axis, while still plotting the monthly data.\n",
    "\n",
    "\n",
    "## Step 1: Prepare the Data\n",
    "\n",
    "First, ensure that the 'Year' and 'Month' columns are in the correct format. Then, create a new column for plotting purposes."
   ]
  },
  {
   "cell_type": "code",
   "execution_count": null,
   "metadata": {},
   "outputs": [],
   "source": [
    "import pandas as pd\n",
    "\n",
    "# Convert 'Year' to string if it's not already\n",
    "df2_month['Year'] = df2_month['Year'].astype(str)\n",
    "\n",
    "# Create a new column 'Year-Month' for plotting\n",
    "df2_month['Year-Month'] = pd.to_datetime(df2_month['Year'] + ' ' + df2_month['Month'])\n",
    "\n",
    "# Filter data for years 2014-2019\n",
    "df2_month_filtered = df2_month[(df2_month['Year-Month'].dt.year >= 2014) & (df2_month['Year-Month'].dt.year <= 2019)]"
   ]
  },
  {
   "cell_type": "markdown",
   "metadata": {},
   "source": [
    "## Step 2: Plotting with Custom X-axis\n",
    "\n",
    "Now, plot the data using Plotly, and format the x-axis to only show the year."
   ]
  },
  {
   "cell_type": "code",
   "execution_count": null,
   "metadata": {},
   "outputs": [],
   "source": [
    "# Ensure you have Plotly installed: pip install plotly\n",
    "pd.options.plotting.backend = \"plotly\"\n",
    "\n",
    "# Plotting\n",
    "fig = df2_month_filtered.plot(x='Year-Month', y='Female Unemployment Rate', title=\"UK Female Unemployment Rate (Monthly) in Years 2014-2019\")\n",
    "\n",
    "# Customize x-axis to show only the year\n",
    "fig.update_xaxes(\n",
    "    tickvals=[pd.to_datetime(f'{y}-01-01') for y in range(2014, 2020)],  # Set ticks at the start of each year\n",
    "    ticktext=[str(y) for y in range(2014, 2020)],  # Label ticks with the year only\n",
    ")\n",
    "\n",
    "# Get current figure height and increase it by 20%\n",
    "current_height = fig.layout.height or 400  # Default height is 400 if not set\n",
    "new_height = current_height * 2  # Increase height by 20%\n",
    "\n",
    "\n",
    "# Update figure layout with the new height and title properties\n",
    "fig.update_layout(\n",
    "    height=new_height,\n",
    "    title={\n",
    "        'text': \"UK Female Unemployment Rate (Monthly) in Years 2014-2019\",\n",
    "        'y':0.93,\n",
    "        'x':0.5,\n",
    "        'xanchor': 'center',\n",
    "        'yanchor': 'top',\n",
    "        'font': {'size': 24}\n",
    "    }\n",
    ")\n",
    "\n",
    "\n",
    "fig.show()"
   ]
  },
  {
   "cell_type": "markdown",
   "metadata": {},
   "source": [
    "# Monthly data for each year from 2014 to 2019 on a single figure\n",
    "\n",
    "To compare to your main textbook, we will plot the data in one year (i.e. 12 month each year) from 2014 till 2019, to get some understanding of trend and seasonality"
   ]
  },
  {
   "cell_type": "code",
   "execution_count": null,
   "metadata": {},
   "outputs": [],
   "source": [
    "import plotly.express as px\n"
   ]
  },
  {
   "cell_type": "markdown",
   "metadata": {},
   "source": [
    "## Step 1: Prepare the Data\n",
    "First, ensure that your DataFrame is in the correct format. You'll need to convert the 'Month' column to a format that allows for easy plotting on a common scale (January to December) for each year."
   ]
  },
  {
   "cell_type": "code",
   "execution_count": null,
   "metadata": {},
   "outputs": [],
   "source": [
    "# Convert 'Year' to integer and 'Month' to datetime\n",
    "df2_month['Year'] = df2_month['Year'].astype(int)\n",
    "df2_month['Month'] = pd.to_datetime(df2_month['Month'], format='%b').dt.month\n",
    "\n",
    "# Filter data for years 2014-2019\n",
    "df2_month_filtered = df2_month[(df2_month['Year'] >= 2014) & (df2_month['Year'] <= 2019)]"
   ]
  },
  {
   "cell_type": "markdown",
   "metadata": {},
   "source": [
    "## Step 2: Plotting with Plotly Express\n",
    "Now, plot the data using Plotly Express, ensuring each year is represented as a separate line:"
   ]
  },
  {
   "cell_type": "code",
   "execution_count": null,
   "metadata": {},
   "outputs": [],
   "source": [
    "# Plotting with Plotly Express\n",
    "fig = px.line(df2_month_filtered, x='Year-Month', y='Female Unemployment Rate', color='Year', \n",
    "              title=\"Female Unemployment Rate (Monthly) in Years 2014-2019\")\n",
    "\n",
    "# Customize the layout\n",
    "fig.update_layout(\n",
    "    xaxis_title='Month',\n",
    "    yaxis_title='Female Unemployment Rate',\n",
    "    legend_title='Year'\n",
    ")\n",
    "\n",
    "fig.show()\n"
   ]
  },
  {
   "cell_type": "code",
   "execution_count": null,
   "metadata": {},
   "outputs": [],
   "source": [
    "import plotly.express as px\n",
    "\n",
    "# Plotting with Plotly Express\n",
    "fig = px.line(df2_month_filtered, x='Month', y='Female Unemployment Rate', color='Year', \n",
    "              title=\"Female Unemployment Rate (Monthly) in Years 2014-2019\")\n",
    "\n",
    "# Customize the layout\n",
    "fig.update_layout(\n",
    "    xaxis_title='Month',\n",
    "    yaxis_title='Female Unemployment Rate',\n",
    "    legend_title='Year',\n",
    "    xaxis = dict(tickmode = 'array',\n",
    "                 tickvals = [1, 2, 3, 4, 5, 6, 7, 8, 9, 10, 11, 12],\n",
    "                 ticktext = ['Jan', 'Feb', 'Mar', 'Apr', 'May', 'Jun', 'Jul', 'Aug', 'Sep', 'Oct', 'Nov', 'Dec'])\n",
    ")\n",
    "\n",
    "# Get current figure height and increase it by 20%\n",
    "current_height = fig.layout.height or 400  # Default height is 400 if not set\n",
    "new_height = current_height * 2  # Increase height by 20%\n",
    "\n",
    "\n",
    "# Update figure layout with the new height and title properties\n",
    "fig.update_layout(\n",
    "    height=new_height,\n",
    "    title={\n",
    "        'text': \"UK Female Unemployment Rate (Monthly) in Years 2014-2019\",\n",
    "        'y':0.93,\n",
    "        'x':0.5,\n",
    "        'xanchor': 'center',\n",
    "        'yanchor': 'top',\n",
    "        'font': {'size': 24}\n",
    "    }\n",
    ")\n",
    "\n",
    "\n",
    "fig.show()\n"
   ]
  },
  {
   "cell_type": "code",
   "execution_count": null,
   "metadata": {},
   "outputs": [],
   "source": [
    "# import matplotlib.pyplot as plt\n",
    "# import seaborn as sns\n",
    "# import pandas as pd\n",
    "\n",
    "def month_plot(data, ylabel):\n",
    "    # Pivot the data for plotting\n",
    "    data_pivot = data.pivot(\"Year\", \"Month\", \"Female Unemployment Rate\")\n",
    "    \n",
    "    # Create a heatmap\n",
    "    sns.heatmap(data_pivot, annot=True, fmt=\".1f\", linewidths=.5, cmap=\"coolwarm\")\n",
    "    plt.ylabel(ylabel)\n"
   ]
  },
  {
   "cell_type": "code",
   "execution_count": null,
   "metadata": {},
   "outputs": [],
   "source": [
    "# Convert 'Year' to integer and 'Month' to datetime\n",
    "df2_month['Year'] = df2_month['Year'].astype(int)\n",
    "# If the 'Month' column contains numerical month representations (1, 2, 3, etc.)\n",
    "df2_month['Month'] = df2_month['Month'].astype(int)  # Convert to integer if not already\n",
    "\n",
    "# Filter data for years 2014-2019\n",
    "df2_month_filtered = df2_month[(df2_month['Year'] >= 2014) & (df2_month['Year'] <= 2019)]\n"
   ]
  },
  {
   "cell_type": "code",
   "execution_count": null,
   "metadata": {},
   "outputs": [],
   "source": [
    "# Plotting\n",
    "month_plot(df2_month_filtered, ylabel=\"Unemployment rate (%)\")\n",
    "plt.title(\"Unemployment rate - Month plot\")\n",
    "\n",
    "sns.despine()\n",
    "plt.tight_layout()\n",
    "plt.show()\n"
   ]
  },
  {
   "cell_type": "code",
   "execution_count": null,
   "metadata": {},
   "outputs": [],
   "source": [
    "\n",
    "\n",
    "Creating interactive visualizations\n",
    "Creating a candlestick chart"
   ]
  }
 ],
 "metadata": {
  "kernelspec": {
   "display_name": "base",
   "language": "python",
   "name": "python3"
  },
  "language_info": {
   "codemirror_mode": {
    "name": "ipython",
    "version": 3
   },
   "file_extension": ".py",
   "mimetype": "text/x-python",
   "name": "python",
   "nbconvert_exporter": "python",
   "pygments_lexer": "ipython3",
   "version": "3.10.6"
  }
 },
 "nbformat": 4,
 "nbformat_minor": 2
}
